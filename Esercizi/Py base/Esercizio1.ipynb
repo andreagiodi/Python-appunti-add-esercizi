{
  "nbformat": 4,
  "nbformat_minor": 0,
  "metadata": {
    "colab": {
      "name": "Esercizio1.ipynb",
      "provenance": []
    },
    "kernelspec": {
      "name": "python3",
      "display_name": "Python 3"
    },
    "language_info": {
      "name": "python"
    }
  },
  "cells": [
    {
      "cell_type": "markdown",
      "metadata": {
        "id": "Z8lWOJechMdn"
      },
      "source": [
        "a. far inserire all'utente due valori interi"
      ]
    },
    {
      "cell_type": "code",
      "metadata": {
        "colab": {
          "base_uri": "https://localhost:8080/"
        },
        "id": "NTVkoeQhgVbW",
        "outputId": "55e998aa-0d49-4866-8183-b82e529450bd"
      },
      "source": [
        "a = int(input('inserisci'))\n",
        "b = int(input('inserisci'))\n"
      ],
      "execution_count": 57,
      "outputs": [
        {
          "name": "stdout",
          "output_type": "stream",
          "text": [
            "inserisci15\n",
            "inserisci10\n"
          ]
        }
      ]
    },
    {
      "cell_type": "markdown",
      "metadata": {
        "id": "ic4KXRILhUYN"
      },
      "source": [
        "b. effettuare le 4 operazioni aritmetiche tra i due numeri"
      ]
    },
    {
      "cell_type": "code",
      "metadata": {
        "colab": {
          "base_uri": "https://localhost:8080/"
        },
        "id": "-Q_HVDkGgwZH",
        "outputId": "a66b81d5-5f4a-41f4-f2e6-5b92c88ea6f3"
      },
      "source": [
        "print('Risultati:' , str(a+b) , str(a-b), str(a/b), str(a*b))"
      ],
      "execution_count": 58,
      "outputs": [
        {
          "output_type": "stream",
          "name": "stdout",
          "text": [
            "Risultati: 25 5 1.5 150\n"
          ]
        }
      ]
    },
    {
      "cell_type": "markdown",
      "metadata": {
        "id": "kye3JXyFjRvx"
      },
      "source": [
        "c. effettuare l'elevamento a potenza del primo numero per il secondo"
      ]
    },
    {
      "cell_type": "code",
      "metadata": {
        "colab": {
          "base_uri": "https://localhost:8080/"
        },
        "id": "lkgvdL5qjVWZ",
        "outputId": "92c8c882-5116-4263-9069-5c5cb030d770"
      },
      "source": [
        "print(pow(a,b))"
      ],
      "execution_count": 59,
      "outputs": [
        {
          "output_type": "stream",
          "name": "stdout",
          "text": [
            "576650390625\n"
          ]
        }
      ]
    },
    {
      "cell_type": "markdown",
      "metadata": {
        "id": "prtHxTTLjcKj"
      },
      "source": [
        "d. effettuare il calcolo del resto della divisione tra il primo e il secondo numero"
      ]
    },
    {
      "cell_type": "code",
      "metadata": {
        "colab": {
          "base_uri": "https://localhost:8080/"
        },
        "id": "fkgNMvP7jjbS",
        "outputId": "718c9b9d-db21-449e-9d44-a81fbff03a63"
      },
      "source": [
        "print(a%b)"
      ],
      "execution_count": 60,
      "outputs": [
        {
          "output_type": "stream",
          "name": "stdout",
          "text": [
            "5\n"
          ]
        }
      ]
    },
    {
      "cell_type": "markdown",
      "metadata": {
        "id": "-EUIKCgkkVtp"
      },
      "source": [
        "f. effettuare la divisione intera tra il primo e il secondo numero\n"
      ]
    },
    {
      "cell_type": "code",
      "metadata": {
        "colab": {
          "base_uri": "https://localhost:8080/"
        },
        "id": "qquWQ9BRkWyj",
        "outputId": "cd59fed0-0d21-4e23-8c7d-394bdd770947"
      },
      "source": [
        "print(a//b)"
      ],
      "execution_count": 61,
      "outputs": [
        {
          "output_type": "stream",
          "name": "stdout",
          "text": [
            "1\n"
          ]
        }
      ]
    },
    {
      "cell_type": "markdown",
      "metadata": {
        "id": "QxQ_wHZ0kqDR"
      },
      "source": [
        "g. incrementare di una unità entrambi i numeri"
      ]
    },
    {
      "cell_type": "code",
      "metadata": {
        "colab": {
          "base_uri": "https://localhost:8080/"
        },
        "id": "dISdlnVOkrzD",
        "outputId": "8b19c519-2c41-469b-9ae9-5c22ad80eb7d"
      },
      "source": [
        "print(a + 1, b + 1)"
      ],
      "execution_count": 62,
      "outputs": [
        {
          "output_type": "stream",
          "name": "stdout",
          "text": [
            "16 11\n"
          ]
        }
      ]
    },
    {
      "cell_type": "markdown",
      "metadata": {
        "id": "iUkfaYnGk9xz"
      },
      "source": [
        "h. far inserie all'utente due valori: il primo rappresenta la sua altezza (in metri) e il secondo rappresenta il suo peso (in kg). Visualizzare poi l'IMC (google it...)\n"
      ]
    },
    {
      "cell_type": "code",
      "metadata": {
        "colab": {
          "base_uri": "https://localhost:8080/"
        },
        "id": "yR59c8VXlAty",
        "outputId": "22e2ef70-d0dd-40a3-c041-99cc7dc20574"
      },
      "source": [
        "c = int(input('Il tuo peso '))\n",
        "d = input('La tua altezza ')\n",
        "f = float(d)\n",
        "e = c / (f*f)\n",
        "print(e)"
      ],
      "execution_count": 63,
      "outputs": [
        {
          "output_type": "stream",
          "name": "stdout",
          "text": [
            "Il tuo peso 60\n",
            "La tua altezza 1.8\n",
            "18.51851851851852\n"
          ]
        }
      ]
    },
    {
      "cell_type": "markdown",
      "metadata": {
        "id": "TlL2xwF0nc-M"
      },
      "source": [
        "i. arrotondare l'IMC precedente"
      ]
    },
    {
      "cell_type": "code",
      "metadata": {
        "colab": {
          "base_uri": "https://localhost:8080/"
        },
        "id": "XHZcUo6bneeh",
        "outputId": "c35482aa-596a-4de3-9f08-ab7d44751acf"
      },
      "source": [
        "print(round(e))"
      ],
      "execution_count": 64,
      "outputs": [
        {
          "output_type": "stream",
          "name": "stdout",
          "text": [
            "19\n"
          ]
        }
      ]
    },
    {
      "cell_type": "markdown",
      "metadata": {
        "id": "iw7vWUNcohdz"
      },
      "source": [
        "j. visualizzare il proprio nome, cognome, data di nascita e città di nascita separando le informazioni con un trattino."
      ]
    },
    {
      "cell_type": "code",
      "metadata": {
        "colab": {
          "base_uri": "https://localhost:8080/"
        },
        "id": "lEHjqnKpoiS8",
        "outputId": "309052b2-7c38-47db-fe4d-29d140690445"
      },
      "source": [
        "id = 'Andrea-Giodice-27/01/2005-Milano '\n",
        "print(id)"
      ],
      "execution_count": 70,
      "outputs": [
        {
          "output_type": "stream",
          "name": "stdout",
          "text": [
            "Andrea-Giodice-27/01/2005-Milano \n"
          ]
        }
      ]
    },
    {
      "cell_type": "markdown",
      "metadata": {
        "id": "HBRClGY7pW10"
      },
      "source": [
        "k. visualizzare le stesse informazioni per 10 volte di seguito"
      ]
    },
    {
      "cell_type": "code",
      "metadata": {
        "colab": {
          "base_uri": "https://localhost:8080/"
        },
        "id": "sg6hEG55pYjc",
        "outputId": "1e50af34-fb00-4c13-e34d-271cf7777b72"
      },
      "source": [
        "print(id * 10)"
      ],
      "execution_count": 71,
      "outputs": [
        {
          "output_type": "stream",
          "name": "stdout",
          "text": [
            "Andrea-Giodice-27/01/2005-Milano Andrea-Giodice-27/01/2005-Milano Andrea-Giodice-27/01/2005-Milano Andrea-Giodice-27/01/2005-Milano Andrea-Giodice-27/01/2005-Milano Andrea-Giodice-27/01/2005-Milano Andrea-Giodice-27/01/2005-Milano Andrea-Giodice-27/01/2005-Milano Andrea-Giodice-27/01/2005-Milano Andrea-Giodice-27/01/2005-Milano \n"
          ]
        }
      ]
    },
    {
      "cell_type": "markdown",
      "metadata": {
        "id": "RwEHwKXCsKRK"
      },
      "source": [
        "l. assegnare il proprio nome e cognome ad una stringa e visualizzarla con tutte le lettere maiuscole\n"
      ]
    },
    {
      "cell_type": "code",
      "metadata": {
        "colab": {
          "base_uri": "https://localhost:8080/"
        },
        "id": "N4sXoXuOsMuB",
        "outputId": "97fff4d8-9f21-4c8f-cf9f-696aadd4cca5"
      },
      "source": [
        "idd = 'Andrea Giodice'\n",
        "print(idd.upper())"
      ],
      "execution_count": 72,
      "outputs": [
        {
          "output_type": "stream",
          "name": "stdout",
          "text": [
            "ANDREA GIODICE\n"
          ]
        }
      ]
    },
    {
      "cell_type": "markdown",
      "metadata": {
        "id": "Df5NWsb_sZFg"
      },
      "source": [
        "m. assegnare il proprio nome e cognome ad una stringa e visualizzarla con le prime lettere maiuscole\n"
      ]
    },
    {
      "cell_type": "code",
      "metadata": {
        "colab": {
          "base_uri": "https://localhost:8080/"
        },
        "id": "is4y1ngxszgs",
        "outputId": "1e126024-76d3-4860-f51f-ee32ca435da8"
      },
      "source": [
        "o = 'andrea'\n",
        "p = 'giodice'\n",
        "\n",
        "print(o.capitalize(), p.capitalize())"
      ],
      "execution_count": 88,
      "outputs": [
        {
          "output_type": "stream",
          "name": "stdout",
          "text": [
            "Andrea Giodice\n"
          ]
        }
      ]
    },
    {
      "cell_type": "markdown",
      "metadata": {
        "id": "cCQYMnPuw1TS"
      },
      "source": [
        "n. assegnare il proprio nome e cognome ad una stringa e visualizzarne la lunghezza\n"
      ]
    },
    {
      "cell_type": "code",
      "metadata": {
        "colab": {
          "base_uri": "https://localhost:8080/"
        },
        "id": "-KLP4JvQw3XE",
        "outputId": "c2a990bf-6b15-4486-ef5d-a2be5f7442bc"
      },
      "source": [
        "nome = 'AndreaGiodice'\n",
        "\n",
        "print(len(nome))"
      ],
      "execution_count": 92,
      "outputs": [
        {
          "output_type": "stream",
          "name": "stdout",
          "text": [
            "13\n"
          ]
        }
      ]
    },
    {
      "cell_type": "markdown",
      "metadata": {
        "id": "Dbw_8nbgzm-S"
      },
      "source": [
        "o. assegnare il proprio nome e cognome ad una stringa e contate quante vocali contiene\n"
      ]
    },
    {
      "cell_type": "code",
      "metadata": {
        "id": "T-imv-Fjznlo"
      },
      "source": [
        "nome1('AndreaGiodice')\n",
        "print()"
      ],
      "execution_count": null,
      "outputs": []
    }
  ]
}
