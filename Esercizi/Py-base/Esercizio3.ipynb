{
  "nbformat": 4,
  "nbformat_minor": 0,
  "metadata": {
    "colab": {
      "name": "Esercizio3.ipynb",
      "provenance": [],
      "collapsed_sections": []
    },
    "kernelspec": {
      "name": "python3",
      "display_name": "Python 3"
    },
    "language_info": {
      "name": "python"
    }
  },
  "cells": [
    {
      "cell_type": "markdown",
      "metadata": {
        "id": "_1P71TZdxSAt"
      },
      "source": [
        "1. Scrivere un programma che crei un dizionario contenente i nomi delle regioni e i nomi dei loro\n",
        "capoluoghi. Il nome della regione deve essere il campo chiave. Chiamare il dizionario\n",
        "capoluoghiRegione"
      ]
    },
    {
      "cell_type": "code",
      "metadata": {
        "colab": {
          "base_uri": "https://localhost:8080/"
        },
        "id": "MCLIn47NxOVV",
        "outputId": "3ad9a503-1f84-4e3e-dc13-ade3458263f9"
      },
      "source": [
        "capoluoghiRegione = {'Abruzzo': 'Aquila', 'Basilicata': 'Potenza', 'Calabria': 'Catanzaro', 'Campania': 'Napoli','Emilia-Romagna': 'Bologna','FriuliVeneziaGiulia': 'Trieste', 'Lazio': 'Roma', 'Liguria': 'Genova','Lombardia': 'Milano','Marche': 'Ancona', 'Molise': 'Campobasso','Piemonte': 'Torino', 'Puglia': 'Bari', 'Sardegna': 'Cagliari', 'Sicilia': 'Palermo', 'Toscana': 'Firenze', 'Trentino-Alto-Adige': 'Trento', 'Umbria': 'Perugia', 'Valle Daosta': 'Aosta', 'Veneto': 'Venezia'}"
      ],
      "execution_count": null,
      "outputs": [
        {
          "output_type": "stream",
          "name": "stdout",
          "text": [
            "{'Abruzzo': 'Aquila', 'Basilicata': 'Potenza', 'Calabria': 'Catanzaro', 'Campania': 'Napoli', 'Emilia-Romagna': 'Bologna', 'FriuliVeneziaGiulia': 'Trieste', 'Lazio': 'Roma', 'Liguria': 'Genova', 'Lombardia': 'Milano', 'Marche': 'Ancona', 'Molise': 'Campobasso', 'Piemonte': 'Torino', 'Puglia': 'Bari', 'Sardegna': 'Cagliari', 'Sicilia': 'Palermo', 'Toscana': 'Firenze', 'Trentino-Alto-Adige': 'Trento', 'Umbria': 'Perugia', 'Valle Daosta': 'Aosta', 'Veneto': 'Venezia'}\n"
          ]
        }
      ]
    },
    {
      "cell_type": "markdown",
      "metadata": {
        "id": "UKquYXP804jg"
      },
      "source": [
        "2. Scrivere un programma che visualizzi tutti i nomi delle regioni presenti in capoluoghiRegione"
      ]
    },
    {
      "cell_type": "code",
      "metadata": {
        "colab": {
          "base_uri": "https://localhost:8080/"
        },
        "id": "82p_xU7u07zg",
        "outputId": "212bb14b-1b93-4538-da27-055af41c52ff"
      },
      "source": [
        "print(capoluoghiRegione.keys())"
      ],
      "execution_count": null,
      "outputs": [
        {
          "output_type": "stream",
          "name": "stdout",
          "text": [
            "dict_keys(['Abruzzo', 'Basilicata', 'Calabria', 'Campania', 'Emilia-Romagna', 'FriuliVeneziaGiulia', 'Lazio', 'Liguria', 'Lombardia', 'Marche', 'Molise', 'Piemonte', 'Puglia', 'Sardegna', 'Sicilia', 'Toscana', 'Trentino-Alto-Adige', 'Umbria', 'Valle Daosta', 'Veneto'])\n"
          ]
        }
      ]
    },
    {
      "cell_type": "markdown",
      "metadata": {
        "id": "f4TD_ich1_CS"
      },
      "source": [
        "3. Scrivere un programma che visualizzi tutti i nomi dei capoluoghi di regione presenti in\n",
        "capoluoghiRegione"
      ]
    },
    {
      "cell_type": "code",
      "metadata": {
        "colab": {
          "base_uri": "https://localhost:8080/"
        },
        "id": "CgxspaBm2K5i",
        "outputId": "e31941dc-52a1-4190-f0b7-413daa444a3d"
      },
      "source": [
        "print(capoluoghiRegione.values())"
      ],
      "execution_count": null,
      "outputs": [
        {
          "output_type": "stream",
          "name": "stdout",
          "text": [
            "dict_values(['Aquila', 'Potenza', 'Catanzaro', 'Napoli', 'Bologna', 'Trieste', 'Roma', 'Genova', 'Milano', 'Ancona', 'Campobasso', 'Torino', 'Bari', 'Cagliari', 'Palermo', 'Firenze', 'Trento', 'Perugia', 'Aosta', 'Venezia'])\n"
          ]
        }
      ]
    },
    {
      "cell_type": "markdown",
      "metadata": {
        "id": "ZmFKr79X2Plq"
      },
      "source": [
        "4. Scrivere un programma che acquisisca dall’utente il nome di una regione e fornisca il nome del suo\n",
        "capoluogo."
      ]
    },
    {
      "cell_type": "code",
      "metadata": {
        "colab": {
          "base_uri": "https://localhost:8080/"
        },
        "id": "lqFuazYw2VO6",
        "outputId": "b07ec536-0bb2-4fdc-f5aa-303401817105"
      },
      "source": [
        "a = input('')\n",
        "print(capoluoghiRegione[a])"
      ],
      "execution_count": null,
      "outputs": [
        {
          "output_type": "stream",
          "name": "stdout",
          "text": [
            "Lombardia\n",
            "Milano\n"
          ]
        }
      ]
    },
    {
      "cell_type": "markdown",
      "metadata": {
        "id": "Mww10hRA2swt"
      },
      "source": [
        "5. Scrivere un programma che acquisisca dall’utente il nome di un capoluogo e fornisca il nome della\n",
        "regione a cui appartiene."
      ]
    },
    {
      "cell_type": "code",
      "metadata": {
        "id": "Swy9RIaL2xaM",
        "colab": {
          "base_uri": "https://localhost:8080/"
        },
        "outputId": "2e73c5ee-2c33-4b61-c296-6a04a507773b"
      },
      "source": [
        "capoluoghi = [capoluoghi for capoluoghi in capoluoghiRegione.values()]\n",
        "regioni = [regioni for regioni in capoluoghiRegione.keys()]\n",
        "\n",
        "\n",
        "input_ = str(input('inserire '))\n",
        "res = regioni[capoluoghi.index(input_)]\n",
        "\n",
        "print('Regione: ', res)\n",
        "    \n",
        "\n",
        "\n",
        "\n"
      ],
      "execution_count": null,
      "outputs": [
        {
          "output_type": "stream",
          "name": "stdout",
          "text": [
            "inserire Napoli\n",
            "Regione:  Campania\n"
          ]
        }
      ]
    },
    {
      "cell_type": "markdown",
      "metadata": {
        "id": "9vaWHIfYHpkc"
      },
      "source": [
        "6. Scrivere un programma che visualizzi tutte le regioni con i rispettivi capoluoghi"
      ]
    },
    {
      "cell_type": "code",
      "metadata": {
        "colab": {
          "base_uri": "https://localhost:8080/"
        },
        "id": "QdwyfLJTHuGK",
        "outputId": "5197118c-0d70-42c0-eacf-d887a92ef524"
      },
      "source": [
        "capoluoghiRegione"
      ],
      "execution_count": null,
      "outputs": [
        {
          "output_type": "execute_result",
          "data": {
            "text/plain": [
              "{'Abruzzo': 'Aquila',\n",
              " 'Basilicata': 'Potenza',\n",
              " 'Calabria': 'Catanzaro',\n",
              " 'Campania': 'Napoli',\n",
              " 'Emilia-Romagna': 'Bologna',\n",
              " 'FriuliVeneziaGiulia': 'Trieste',\n",
              " 'Lazio': 'Roma',\n",
              " 'Liguria': 'Genova',\n",
              " 'Lombardia': 'Milano',\n",
              " 'Marche': 'Ancona',\n",
              " 'Molise': 'Campobasso',\n",
              " 'Piemonte': 'Torino',\n",
              " 'Puglia': 'Bari',\n",
              " 'Sardegna': 'Cagliari',\n",
              " 'Sicilia': 'Palermo',\n",
              " 'Toscana': 'Firenze',\n",
              " 'Trentino-Alto-Adige': 'Trento',\n",
              " 'Umbria': 'Perugia',\n",
              " 'Valle Daosta': 'Aosta',\n",
              " 'Veneto': 'Venezia'}"
            ]
          },
          "metadata": {},
          "execution_count": 51
        }
      ]
    },
    {
      "cell_type": "markdown",
      "metadata": {
        "id": "rtz6BkOdKFtL"
      },
      "source": [
        "7. Scrivere un programma che visualizzi tutte le regioni con i rispettivi capoluoghi. Ordinare le regioni\n",
        "in ordine alfabetico"
      ]
    },
    {
      "cell_type": "code",
      "metadata": {
        "colab": {
          "base_uri": "https://localhost:8080/"
        },
        "id": "fjGTuDfSKGGy",
        "outputId": "51b65ce5-f632-4f23-e136-ed24d678665d"
      },
      "source": [
        "dict(sorted(capoluoghiRegione.items(), key=lambda item: item[1]))"
      ],
      "execution_count": null,
      "outputs": [
        {
          "output_type": "execute_result",
          "data": {
            "text/plain": [
              "{'Abruzzo': 'Aquila',\n",
              " 'Basilicata': 'Potenza',\n",
              " 'Calabria': 'Catanzaro',\n",
              " 'Campania': 'Napoli',\n",
              " 'Emilia-Romagna': 'Bologna',\n",
              " 'FriuliVeneziaGiulia': 'Trieste',\n",
              " 'Lazio': 'Roma',\n",
              " 'Liguria': 'Genova',\n",
              " 'Lombardia': 'Milano',\n",
              " 'Marche': 'Ancona',\n",
              " 'Molise': 'Campobasso',\n",
              " 'Piemonte': 'Torino',\n",
              " 'Puglia': 'Bari',\n",
              " 'Sardegna': 'Cagliari',\n",
              " 'Sicilia': 'Palermo',\n",
              " 'Toscana': 'Firenze',\n",
              " 'Trentino-Alto-Adige': 'Trento',\n",
              " 'Umbria': 'Perugia',\n",
              " 'Valle Daosta': 'Aosta',\n",
              " 'Veneto': 'Venezia'}"
            ]
          },
          "metadata": {},
          "execution_count": 57
        }
      ]
    },
    {
      "cell_type": "markdown",
      "metadata": {
        "id": "gAyhsZb5LXEE"
      },
      "source": [
        "8. Scrivere un programma che visualizzi tutte le regioni con i rispettivi capoluoghi. Ordinare i\n",
        "capoluoghi in ordine alfabetico"
      ]
    },
    {
      "cell_type": "code",
      "metadata": {
        "colab": {
          "base_uri": "https://localhost:8080/"
        },
        "id": "HJFXaL6LLd-D",
        "outputId": "1ba7c5b8-71c3-47d6-aa20-0be3d5ba9d75"
      },
      "source": [
        "sorted_items = sorted(capoluoghiRegione.values())\n",
        "print(sorted_items)"
      ],
      "execution_count": null,
      "outputs": [
        {
          "output_type": "stream",
          "name": "stdout",
          "text": [
            "['Ancona', 'Aosta', 'Aquila', 'Bari', 'Bologna', 'Cagliari', 'Campobasso', 'Catanzaro', 'Firenze', 'Genova', 'Milano', 'Napoli', 'Palermo', 'Perugia', 'Potenza', 'Roma', 'Torino', 'Trento', 'Trieste', 'Venezia']\n"
          ]
        }
      ]
    },
    {
      "cell_type": "markdown",
      "metadata": {
        "id": "vQbsSWDWNeXE"
      },
      "source": [
        "9. Scrivere un programma che carichi in una lista i nomi delle regioni e in un’altra lista i nomi dei\n",
        "rispettivi capoluoghi. Scrivere poi l’istruzione che permette di costruire il dizionario a partire dalle\n",
        "due liste."
      ]
    },
    {
      "cell_type": "code",
      "metadata": {
        "colab": {
          "base_uri": "https://localhost:8080/"
        },
        "id": "PAEJTKMENiaC",
        "outputId": "38e679cc-15a7-4d6e-ae19-605490504736"
      },
      "source": [
        "a = capoluoghiRegione.keys()\n",
        "b = capoluoghiRegione.values()\n",
        "print(a, '\\n', b)\n"
      ],
      "execution_count": null,
      "outputs": [
        {
          "output_type": "stream",
          "name": "stdout",
          "text": [
            "dict_keys(['Abruzzo', 'Basilicata', 'Calabria', 'Campania', 'Emilia-Romagna', 'FriuliVeneziaGiulia', 'Lazio', 'Liguria', 'Lombardia', 'Marche', 'Molise', 'Piemonte', 'Puglia', 'Sardegna', 'Sicilia', 'Toscana', 'Trentino-Alto-Adige', 'Umbria', 'Valle Daosta', 'Veneto']) \n",
            " dict_values(['Aquila', 'Potenza', 'Catanzaro', 'Napoli', 'Bologna', 'Trieste', 'Roma', 'Genova', 'Milano', 'Ancona', 'Campobasso', 'Torino', 'Bari', 'Cagliari', 'Palermo', 'Firenze', 'Trento', 'Perugia', 'Aosta', 'Venezia'])\n"
          ]
        }
      ]
    }
  ]
}
