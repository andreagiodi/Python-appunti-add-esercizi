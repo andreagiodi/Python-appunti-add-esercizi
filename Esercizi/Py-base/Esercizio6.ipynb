{
  "nbformat": 4,
  "nbformat_minor": 0,
  "metadata": {
    "colab": {
      "name": "Esercizio6.ipynb",
      "provenance": [],
      "collapsed_sections": []
    },
    "kernelspec": {
      "name": "python3",
      "display_name": "Python 3"
    },
    "language_info": {
      "name": "python"
    }
  },
  "cells": [
    {
      "cell_type": "markdown",
      "metadata": {
        "id": "Hi6Ki4hH3y83"
      },
      "source": [
        "1. scrivere una funzione chiamata sommaTutti che permetta di sommare un numero arbitrario di valori interi passati come parametri. Scrivere poi un programma che permetta all'utente di inserire un numero variabile di interi e visualizzi la somma."
      ]
    },
    {
      "cell_type": "code",
      "metadata": {
        "id": "OoRJXUTOtVsO",
        "colab": {
          "base_uri": "https://localhost:8080/"
        },
        "outputId": "3d0fe063-d58c-4bd9-c464-cc9d57ac0c78"
      },
      "source": [
        "def sommaTutti(num):\n",
        "  Nsalvato = 0\n",
        "\n",
        "  for i in num:\n",
        "    Nsalvato += i\n",
        "  return Nsalvato\n",
        "\n",
        "lst = [int(element) for element in input('Inserisci numero: ').split()]\n",
        "\n",
        "print(sommaTutti(lst))\n",
        "  "
      ],
      "execution_count": null,
      "outputs": [
        {
          "output_type": "stream",
          "name": "stdout",
          "text": [
            "Inserisci numero: 5\n",
            "5\n"
          ]
        }
      ]
    },
    {
      "cell_type": "markdown",
      "metadata": {
        "id": "0aGpTogf4rXe"
      },
      "source": [
        "2. scrivere una lambda function che calcoli la lunghezza della circonferenza di un cerchio dato il raggio. Utilizzarla poi in un programma che chieda all'utente il valore del raggio e visualizzi la lunghezza della circonferenza\n"
      ]
    },
    {
      "cell_type": "code",
      "metadata": {
        "id": "44Ugplah4tiM"
      },
      "source": [
        "#p = 3.14\n",
        "l = lambda r: r * 3.14 * 2\n",
        "a = int(input('Raggio: '))\n",
        "l(a)"
      ],
      "execution_count": null,
      "outputs": []
    },
    {
      "cell_type": "markdown",
      "metadata": {
        "id": "oMu4x7Hz_4td"
      },
      "source": [
        "3. scrivere una funzione che calcoli il quadrato di un numero. Scrivere poi una funzione che calcoli la radice quadrata della somma di due numeri. Scrivere poi una lambda function che date le lunghezze di due cateti di un triangolo calcoli l'ipotenusa utilizzando le funzioni definite precedentemente. Utilizzare quest'ultima funzione in un programma che permetta all'utente di inserire le lunghezze dei cateti e di avere in risposta la lunghezza dell'ipotenusa di un triangolo rettangolo"
      ]
    },
    {
      "cell_type": "code",
      "metadata": {
        "colab": {
          "base_uri": "https://localhost:8080/"
        },
        "id": "ZauoJVwN_6r9",
        "outputId": "4fe8debe-5d9a-492f-ad18-7b8d13e6f4e4"
      },
      "source": [
        "pow(16, 0.5)\n"
      ],
      "execution_count": null,
      "outputs": [
        {
          "output_type": "execute_result",
          "data": {
            "text/plain": [
              "4.0"
            ]
          },
          "metadata": {},
          "execution_count": 8
        }
      ]
    },
    {
      "cell_type": "markdown",
      "metadata": {
        "id": "ZqhCjEy8AsdG"
      },
      "source": [
        "4. Scrivere le funzioni quadrato, cubo e radiceQuadrata che calcolano il quadrato, il cubo e la radice quadrata di un numero intero. Scrivere poi un programma che, utilizzando un ciclo for, richiami le tre funzioni su un valore intero inserito dall'utente e visualizzi i tre risultati."
      ]
    },
    {
      "cell_type": "code",
      "metadata": {
        "colab": {
          "base_uri": "https://localhost:8080/"
        },
        "id": "Qp7FARgdAthK",
        "outputId": "8bbcd99d-0d32-492f-9044-896d2190226f"
      },
      "source": [
        "def quadrato(num):\n",
        "  return pow(num,2)\n",
        "def cubo(num):\n",
        "  return pow(num,3)\n",
        "def radiceQuadrata(num):\n",
        "  return pow(num,0.5)\n",
        "\n",
        "a = int(input('inserire valore: '))\n",
        "\n",
        "print(quadrato(a))\n",
        "print(cubo(a))\n",
        "print(radiceQuadrata(a))"
      ],
      "execution_count": null,
      "outputs": [
        {
          "output_type": "stream",
          "name": "stdout",
          "text": [
            "inserire valore: 5\n",
            "25\n",
            "125\n",
            "2.23606797749979\n"
          ]
        }
      ]
    },
    {
      "cell_type": "markdown",
      "metadata": {
        "id": "2WdOfWSc0g8s"
      },
      "source": [
        "5. Utilizzando una  function, scrivere un programma che data una lista di numeri interi inserita dall'utente carichi in altre due liste i quadrati e i cubi dei numeri presenti nella lista inserita. Al termine, visualizzare le due liste.\n"
      ]
    },
    {
      "cell_type": "code",
      "metadata": {
        "colab": {
          "base_uri": "https://localhost:8080/"
        },
        "id": "euG0ZIv30hhs",
        "outputId": "0594085d-661e-4091-998f-66f7072b4993"
      },
      "source": [
        "lista1 = list(input(\"Inserire gli elementi: \").split()) \n",
        "lista1 = list([int(n) for n in lista1])\n",
        "\n",
        "New = list(map(lambda x: quadrato(x),lista1)) \n",
        "New1 = list(map(lambda y: cubo(y),lista1))  \n",
        "\n",
        "print(New,New1)"
      ],
      "execution_count": null,
      "outputs": [
        {
          "output_type": "stream",
          "name": "stdout",
          "text": [
            "Inserire gli elementi: 44 55 2\n",
            "[1936, 3025, 4] [85184, 166375, 8]\n"
          ]
        }
      ]
    },
    {
      "cell_type": "markdown",
      "metadata": {
        "id": "VXOJLTat5nll"
      },
      "source": [
        "6. Utilizzando una lambda function, scrivere un programma che data una lista di numeri interi inserita dall'utente carichi in altre due liste i numeri pari e i numeri dispari presenti nella lista inserita. Al termine, visualizzare le due liste.\n"
      ]
    },
    {
      "cell_type": "code",
      "metadata": {
        "id": "6ZxbCU3T5n-V"
      },
      "source": [
        "list1 = list(input(\"Inserire la lista1: \").split()) \n",
        "list1 = list([int(n) for n in lista1])\n",
        "\n",
        "listapari = list(filter(lambda x: x%2 == 0,list1)) \n",
        "listadispari = list(filter(lambda y: y%2 != 0,list1))\n",
        "\n",
        "print(listapari,listadispari)"
      ],
      "execution_count": null,
      "outputs": []
    },
    {
      "cell_type": "markdown",
      "metadata": {
        "id": "ldE6sKn64Bgc"
      },
      "source": [
        "7. Cercare su internet che cosa si intende per fattoriale di un numero. \n",
        "\n",
        "Scrivere poi una funzione ricorsiva che calcoli il fattoriale di un numero. Utilizzare poi la funzione creata per scrivere un programma che permetta all'utente di inserire un numero intero e che visualizzi il fattoriale di quel numero."
      ]
    },
    {
      "cell_type": "code",
      "metadata": {
        "colab": {
          "base_uri": "https://localhost:8080/"
        },
        "id": "RY0Q5cdS571N",
        "outputId": "92719940-3bf6-4d98-cbf5-31dbfffdc954"
      },
      "source": [
        "def fattoriale1(n):\n",
        "  if n==0:\n",
        "    return 1\n",
        "  else:\n",
        "    return n*fattoriale1(n-1)\n",
        "\n",
        "num = int(input('Inserire il numero: ')) \n",
        "print(fattoriale1(num))"
      ],
      "execution_count": null,
      "outputs": [
        {
          "output_type": "stream",
          "name": "stdout",
          "text": [
            "Inserire il numero: 6\n",
            "720\n"
          ]
        }
      ]
    },
    {
      "cell_type": "markdown",
      "metadata": {
        "id": "zUqzh7hq6PO7"
      },
      "source": [
        "8. Svolgere l'esercizio 7, senza ricorsione"
      ]
    },
    {
      "cell_type": "code",
      "metadata": {
        "colab": {
          "base_uri": "https://localhost:8080/"
        },
        "id": "3Fq9ZQMQ6ROc",
        "outputId": "5e392694-6f48-4202-91de-7558d08d0391"
      },
      "source": [
        "n = int(input('inserisci numero: '))\n",
        "e = 1\n",
        "for i in range(1,n+1):\n",
        "  e*=i\n",
        "print(e)"
      ],
      "execution_count": null,
      "outputs": [
        {
          "output_type": "stream",
          "name": "stdout",
          "text": [
            "inserisci numero: 6\n",
            "720\n"
          ]
        }
      ]
    },
    {
      "cell_type": "markdown",
      "metadata": {
        "id": "xzgNw9fO6i9s"
      },
      "source": [
        "9. Cercare su internet che cosa sono i numeri di Fibonacci. Scrivere poi una funzione ricorsiva che calcoli l'n-esimo numero della sequenza di Fibonacci. Utilizzare poi la funzione creata per scrivere un programma che permetta all'utente di inserire un numero intero e che visualizzi il numero della sequenza di Fibonacci corrispondente.\n"
      ]
    },
    {
      "cell_type": "code",
      "metadata": {
        "colab": {
          "base_uri": "https://localhost:8080/"
        },
        "id": "Rkscqq_16jP0",
        "outputId": "134a53f2-4ca9-49e5-b163-e97be8907c2e"
      },
      "source": [
        "def f(n):\n",
        "    if n == 0:\n",
        "        return 0;\n",
        "    if n == 1:\n",
        "        return 1;\n",
        "    else:\n",
        "        return f(n-1) + f(n-2)\n",
        "\n",
        "num = int(input(\"Inserisci un numero: \"))\n",
        "\n",
        "print(f(num))"
      ],
      "execution_count": null,
      "outputs": [
        {
          "output_type": "stream",
          "name": "stdout",
          "text": [
            "Inserisci un numero: 6\n",
            "8\n"
          ]
        }
      ]
    }
  ]
}
