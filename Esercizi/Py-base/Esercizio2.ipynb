{
  "nbformat": 4,
  "nbformat_minor": 0,
  "metadata": {
    "colab": {
      "name": "Esercizio2.ipynb",
      "provenance": [],
      "collapsed_sections": []
    },
    "kernelspec": {
      "name": "python3",
      "display_name": "Python 3"
    },
    "language_info": {
      "name": "python"
    }
  },
  "cells": [
    {
      "cell_type": "markdown",
      "metadata": {
        "id": "_ZjEb9iw6D4y"
      },
      "source": [
        "1. Scrivere un programma che crei una lista contenente i nomi dei capoluoghi delle regioni italiane e\n",
        "che visualizzi la lista. Chiamare la lista **capoluoghiRegione**"
      ]
    },
    {
      "cell_type": "code",
      "metadata": {
        "id": "jYBKr8PImnyC"
      },
      "source": [
        "capoluoghiRegione = ['Aquila','Potenza', 'Catanzaro', 'Napoli', 'Bologna', 'Trieste', 'Roma', 'Genova', 'Milano', 'Ancona', 'Campobasso', 'Torino', 'Bari', 'Cagliari', 'Palermo', 'Firenze', 'Trento', 'Perugia', 'Aosta','Venezia']"
      ],
      "execution_count": null,
      "outputs": []
    },
    {
      "cell_type": "markdown",
      "metadata": {
        "id": "PBb6NGLz7v-w"
      },
      "source": [
        "2. Scrivere un programma che visualizzi i primi 6 capoluoghi di regione presenti in\n",
        "capoluoghiRegione"
      ]
    },
    {
      "cell_type": "code",
      "metadata": {
        "colab": {
          "base_uri": "https://localhost:8080/"
        },
        "id": "eFpoJFWg71LI",
        "outputId": "6a803fb0-8ddd-4910-e88c-ec4cb5f7e34f"
      },
      "source": [
        "print(capoluoghiRegione[0:6])"
      ],
      "execution_count": null,
      "outputs": [
        {
          "output_type": "stream",
          "name": "stdout",
          "text": [
            "['Aquila', 'Potenza', 'Catanzaro', 'Napoli', 'Bologna', 'Trieste']\n"
          ]
        }
      ]
    },
    {
      "cell_type": "markdown",
      "metadata": {
        "id": "BjNPowUn7_7P"
      },
      "source": [
        "3. Scrivere un programma che visualizzi gli ultimi 6 capoluoghi di regione presenti in\n",
        "capoluoghiRegione"
      ]
    },
    {
      "cell_type": "code",
      "metadata": {
        "colab": {
          "base_uri": "https://localhost:8080/"
        },
        "id": "coI50BZ58Cse",
        "outputId": "4a3d337c-42cb-4e17-fce3-f9cb96a7b30f"
      },
      "source": [
        "print(capoluoghiRegione[-6:])"
      ],
      "execution_count": null,
      "outputs": [
        {
          "output_type": "stream",
          "name": "stdout",
          "text": [
            "['Palermo', 'Firenze', 'Trento', 'Perugia', 'Aosta', 'Venezia']\n"
          ]
        }
      ]
    },
    {
      "cell_type": "markdown",
      "metadata": {
        "id": "iQWaL01f8W5Y"
      },
      "source": [
        "4. Scrivere un programma che visualizzi i 6 capoluoghi di regione presenti nella parte centrale di\n",
        "capoluoghiRegione"
      ]
    },
    {
      "cell_type": "code",
      "metadata": {
        "colab": {
          "base_uri": "https://localhost:8080/"
        },
        "id": "eO7ASVrL8ahH",
        "outputId": "fdd083d0-f967-4b4d-cb0c-c7145308b925"
      },
      "source": [
        "print(capoluoghiRegione[6:-6])"
      ],
      "execution_count": null,
      "outputs": [
        {
          "output_type": "stream",
          "name": "stdout",
          "text": [
            "['Roma', 'Genova', 'Milano', 'Ancona', 'Campobasso', 'Torino', 'Bari', 'Cagliari']\n"
          ]
        }
      ]
    },
    {
      "cell_type": "markdown",
      "metadata": {
        "id": "unoJLqyW80fb"
      },
      "source": [
        "5. Scrivere un programma che visualizzi i capoluoghi di regione presenti in capoluoghiRegione\n",
        "nelle posizioni pari."
      ]
    },
    {
      "cell_type": "code",
      "metadata": {
        "colab": {
          "base_uri": "https://localhost:8080/"
        },
        "id": "EjC8FEMV81Hm",
        "outputId": "23cf1933-14fb-4134-da96-c16506cd9d98"
      },
      "source": [
        "for i  in capoluoghiRegione:\n",
        "  w = capoluoghiRegione.index(i)\n",
        "  if w%2 == 0:\n",
        "    print(i)"
      ],
      "execution_count": null,
      "outputs": [
        {
          "output_type": "stream",
          "name": "stdout",
          "text": [
            "Ancona\n",
            "Aquila\n",
            "Bologna\n",
            "Campobasso\n",
            "Firenze\n",
            "Milano\n",
            "Palermo\n",
            "Potenza\n",
            "Torino\n",
            "Trieste\n"
          ]
        }
      ]
    },
    {
      "cell_type": "markdown",
      "metadata": {
        "id": "pzUEU9dG-8XZ"
      },
      "source": [
        "6. Scrivere un programma che visualizzi i capoluoghi di regione presenti in capoluoghiRegione\n",
        "nelle posizioni dispari."
      ]
    },
    {
      "cell_type": "code",
      "metadata": {
        "colab": {
          "base_uri": "https://localhost:8080/"
        },
        "id": "mM9MWXb3--1_",
        "outputId": "fe23926c-0348-4400-edad-b1a693e3ae0f"
      },
      "source": [
        "for i  in capoluoghiRegione:\n",
        "  w = capoluoghiRegione.index(i)\n",
        "  if w%2 != 0:\n",
        "    print(i)"
      ],
      "execution_count": null,
      "outputs": [
        {
          "output_type": "stream",
          "name": "stdout",
          "text": [
            "Aosta\n",
            "Bari\n",
            "Cagliari\n",
            "Catanzaro\n",
            "Genova\n",
            "Napoli\n",
            "Perugia\n",
            "Roma\n",
            "Trento\n",
            "Venezia\n"
          ]
        }
      ]
    },
    {
      "cell_type": "markdown",
      "metadata": {
        "id": "eWdx6Lcj_F3g"
      },
      "source": [
        "7. Scrivere un programma che visualizzi il primo capoluogo di regione in ordine alfabetico"
      ]
    },
    {
      "cell_type": "code",
      "metadata": {
        "colab": {
          "base_uri": "https://localhost:8080/"
        },
        "id": "Oam5_Q3X_IZY",
        "outputId": "6d70bc55-85e0-4505-e07a-9db204750ae0"
      },
      "source": [
        "capoluoghiRegione.sort()\n",
        "print(capoluoghiRegione[:-19])"
      ],
      "execution_count": null,
      "outputs": [
        {
          "output_type": "stream",
          "name": "stdout",
          "text": [
            "['Ancona']\n"
          ]
        }
      ]
    },
    {
      "cell_type": "markdown",
      "metadata": {
        "id": "naFgOzL2A7eu"
      },
      "source": [
        "8. Scrivere un programma che permetta ad un utente di inserire il nome di una città è risponda True\n",
        "se quella città è un capoluogo di regione, False altrimenti."
      ]
    },
    {
      "cell_type": "code",
      "metadata": {
        "id": "xRMSTkhgBAjf"
      },
      "source": [
        "e = input('')\n",
        "e in capoluoghiRegione"
      ],
      "execution_count": null,
      "outputs": []
    },
    {
      "cell_type": "markdown",
      "metadata": {
        "id": "PSNOpXAEM8Jk"
      },
      "source": [
        "9. Scrivere un programma che visualizzi i capoluoghi in ordine alfabetico"
      ]
    },
    {
      "cell_type": "code",
      "metadata": {
        "colab": {
          "base_uri": "https://localhost:8080/"
        },
        "id": "1WJkirUiM8js",
        "outputId": "465b85c6-fc67-43fd-8429-70645230382a"
      },
      "source": [
        "capoluoghiRegione.sort()\n",
        "print(capoluoghiRegione)"
      ],
      "execution_count": null,
      "outputs": [
        {
          "output_type": "stream",
          "name": "stdout",
          "text": [
            "['Ancona', 'Aosta', 'Aquila', 'Bari', 'Bologna', 'Cagliari', 'Campobasso', 'Catanzaro', 'Firenze', 'Genova', 'Milano', 'Napoli', 'Palermo', 'Perugia', 'Potenza', 'Roma', 'Torino', 'Trento', 'Trieste', 'Venezia']\n"
          ]
        }
      ]
    },
    {
      "cell_type": "markdown",
      "metadata": {
        "id": "8dHNZtnhNZEj"
      },
      "source": [
        "10. Scrivere un programma che visualizzi i capoluoghi in ordine alfabetico inverso (dalla Z alla A)"
      ]
    },
    {
      "cell_type": "code",
      "metadata": {
        "colab": {
          "base_uri": "https://localhost:8080/"
        },
        "id": "18f52Sy2NZQL",
        "outputId": "7bafc7ea-f27b-4fa4-ba56-18329cbac2d5"
      },
      "source": [
        "capoluoghiRegione.sort()\n",
        "capoluoghiRegione.reverse()\n",
        "print(capoluoghiRegione)"
      ],
      "execution_count": null,
      "outputs": [
        {
          "output_type": "stream",
          "name": "stdout",
          "text": [
            "['Venezia', 'Trieste', 'Trento', 'Torino', 'Roma', 'Potenza', 'Perugia', 'Palermo', 'Napoli', 'Milano', 'Genova', 'Firenze', 'Catanzaro', 'Campobasso', 'Cagliari', 'Bologna', 'Bari', 'Aquila', 'Aosta', 'Ancona']\n"
          ]
        }
      ]
    },
    {
      "cell_type": "markdown",
      "metadata": {
        "id": "TAnmPoRbOAvq"
      },
      "source": [
        "11. Scrivere un programma che visualizzi i capoluoghi in ordine sulla base della lunghezza del nome (da\n",
        "quello più corto a quello più lungo)"
      ]
    },
    {
      "cell_type": "code",
      "metadata": {
        "colab": {
          "base_uri": "https://localhost:8080/"
        },
        "id": "Hx-zHzxxOBJT",
        "outputId": "ac9ea66d-623d-4b50-8978-0b607bb0af90"
      },
      "source": [
        "capoluoghiRegione.sort(key=len)\n",
        "print(sorted(capoluoghiRegione,key=len,reverse=True))"
      ],
      "execution_count": null,
      "outputs": [
        {
          "output_type": "stream",
          "name": "stdout",
          "text": [
            "['Campobasso', 'Catanzaro', 'Cagliari', 'Venezia', 'Trieste', 'Potenza', 'Perugia', 'Palermo', 'Firenze', 'Bologna', 'Trento', 'Torino', 'Napoli', 'Milano', 'Genova', 'Aquila', 'Ancona', 'Aosta', 'Roma', 'Bari']\n"
          ]
        }
      ]
    },
    {
      "cell_type": "markdown",
      "metadata": {
        "id": "6T0E3jkCOhud"
      },
      "source": [
        "12. Scrivere un programma che copi la lista capoluoghiRegione nella lista\n",
        "capoluoghiRegione2 e che elimini dalla prima lista il primo e l’ultimo elemento. Al termine,\n",
        "visualizzare le due liste una sotto l’altra per verificare che effettivamente siano stati eliminati gli\n",
        "elementi della lista originale."
      ]
    },
    {
      "cell_type": "code",
      "metadata": {
        "id": "HfCwVgFGOlTD"
      },
      "source": [
        "capoluoghiRegione = ['Aquila','Potenza', 'Catanzaro', 'Napoli', 'Bologna', 'Trieste', 'Roma', 'Genova', 'Milano', 'Ancona', 'Campobasso', 'Torino', 'Bari', 'Cagliari', 'Palermo', 'Firenze', 'Trento', 'Perugia', 'Aosta','Venezia']\n",
        "capoluoghiRegione2 = (capoluoghiRegione)\n",
        "e = capoluoghiRegione\n",
        "del e[0]\n",
        "del e[-1]\n",
        "print(e, '\\n',capoluoghiRegione2)"
      ],
      "execution_count": null,
      "outputs": []
    },
    {
      "cell_type": "markdown",
      "metadata": {
        "id": "x9towzbwTELK"
      },
      "source": [
        "13. Scrivere un programma che, con una sola istruzione, carichi una lista con i primi 100 numeri interi.\n",
        "Chiamare la lista numeriInteri. Al termine, visualizzare la lista."
      ]
    },
    {
      "cell_type": "code",
      "metadata": {
        "colab": {
          "base_uri": "https://localhost:8080/"
        },
        "id": "WzqUoWxHTE6C",
        "outputId": "66760649-13a8-4a6c-cb8f-64f9e1838fe0"
      },
      "source": [
        "numeriInteri = list(range(101))\n",
        "print(numeriInteri)\n",
        "  \n",
        "\n"
      ],
      "execution_count": null,
      "outputs": [
        {
          "output_type": "stream",
          "name": "stdout",
          "text": [
            "[0, 1, 2, 3, 4, 5, 6, 7, 8, 9, 10, 11, 12, 13, 14, 15, 16, 17, 18, 19, 20, 21, 22, 23, 24, 25, 26, 27, 28, 29, 30, 31, 32, 33, 34, 35, 36, 37, 38, 39, 40, 41, 42, 43, 44, 45, 46, 47, 48, 49, 50, 51, 52, 53, 54, 55, 56, 57, 58, 59, 60, 61, 62, 63, 64, 65, 66, 67, 68, 69, 70, 71, 72, 73, 74, 75, 76, 77, 78, 79, 80, 81, 82, 83, 84, 85, 86, 87, 88, 89, 90, 91, 92, 93, 94, 95, 96, 97, 98, 99, 100]\n"
          ]
        }
      ]
    },
    {
      "cell_type": "markdown",
      "metadata": {
        "id": "Y8U-e_fWVSuq"
      },
      "source": [
        "14. Scrivere un programma che permetta all’utente di inserire in una lista 10 numeri interi, elimini i\n",
        "duplicati e visualizzi la lista senza duplicati. Chiamare la lista numeriInteri."
      ]
    },
    {
      "cell_type": "code",
      "metadata": {
        "id": "u0FdUQ3SVTX5"
      },
      "source": [
        "numeriInteri = []\n",
        "a = '1234567891'\n",
        "f = 0\n",
        "for i in a:\n",
        "  b = input('')\n",
        "  f = b\n",
        "  if f in numeriInteri:\n",
        "    f = 0\n",
        "      \n",
        "  numeriInteri.append(f) \n",
        "\n",
        "print(numeriInteri)"
      ],
      "execution_count": null,
      "outputs": []
    }
  ]
}
