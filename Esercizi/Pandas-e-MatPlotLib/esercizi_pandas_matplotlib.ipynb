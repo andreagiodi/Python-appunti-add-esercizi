{
  "nbformat": 4,
  "nbformat_minor": 0,
  "metadata": {
    "colab": {
      "name": "Esercizi_pandas_matplotlib.ipynb",
      "provenance": [],
      "collapsed_sections": []
    },
    "kernelspec": {
      "name": "python3",
      "display_name": "Python 3"
    },
    "language_info": {
      "name": "python"
    }
  },
  "cells": [
    {
      "cell_type": "markdown",
      "metadata": {
        "id": "9uYGvN2QefMq"
      },
      "source": [
        "1. Crei un dataframe Pandas contenente le informazioni presenti nella collection"
      ]
    },
    {
      "cell_type": "code",
      "metadata": {
        "id": "gGevfxjKdr_Z"
      },
      "source": [
        "import pandas as pd\n",
        "import matplotlib.pyplot as plt"
      ],
      "execution_count": 1,
      "outputs": []
    },
    {
      "cell_type": "code",
      "metadata": {
        "colab": {
          "base_uri": "https://localhost:8080/",
          "height": 736
        },
        "id": "eVr3a-e2eGEB",
        "outputId": "d25c10d7-3a23-4bd0-adcd-cfa2f3bbfabb"
      },
      "source": [
        "df = pd.read_csv('https://raw.githubusercontent.com/wtitze/4E/main/ristoranti.csv')\n",
        "df"
      ],
      "execution_count": 2,
      "outputs": [
        {
          "output_type": "execute_result",
          "data": {
            "text/html": [
              "<div>\n",
              "<style scoped>\n",
              "    .dataframe tbody tr th:only-of-type {\n",
              "        vertical-align: middle;\n",
              "    }\n",
              "\n",
              "    .dataframe tbody tr th {\n",
              "        vertical-align: top;\n",
              "    }\n",
              "\n",
              "    .dataframe thead th {\n",
              "        text-align: right;\n",
              "    }\n",
              "</style>\n",
              "<table border=\"1\" class=\"dataframe\">\n",
              "  <thead>\n",
              "    <tr style=\"text-align: right;\">\n",
              "      <th></th>\n",
              "      <th>N</th>\n",
              "      <th>address</th>\n",
              "      <th>borough</th>\n",
              "      <th>cuisine</th>\n",
              "      <th>grades</th>\n",
              "      <th>name</th>\n",
              "      <th>restaurant_id</th>\n",
              "    </tr>\n",
              "  </thead>\n",
              "  <tbody>\n",
              "    <tr>\n",
              "      <th>0</th>\n",
              "      <td>0</td>\n",
              "      <td>{'building': '8825', 'coord': [-73.8803827, 40...</td>\n",
              "      <td>Queens</td>\n",
              "      <td>American</td>\n",
              "      <td>[{'date': datetime.datetime(2014, 11, 15, 0, 0...</td>\n",
              "      <td>Brunos On The Boulevard</td>\n",
              "      <td>40356151</td>\n",
              "    </tr>\n",
              "    <tr>\n",
              "      <th>1</th>\n",
              "      <td>1</td>\n",
              "      <td>{'building': '156-71', 'coord': [-73.840437, 4...</td>\n",
              "      <td>Queens</td>\n",
              "      <td>Pizza/Italian</td>\n",
              "      <td>[{'date': datetime.datetime(2014, 10, 29, 0, 0...</td>\n",
              "      <td>New Park Pizzeria &amp; Restaurant</td>\n",
              "      <td>40364744</td>\n",
              "    </tr>\n",
              "    <tr>\n",
              "      <th>2</th>\n",
              "      <td>2</td>\n",
              "      <td>{'building': '6409', 'coord': [-74.00528899999...</td>\n",
              "      <td>Brooklyn</td>\n",
              "      <td>American</td>\n",
              "      <td>[{'date': datetime.datetime(2014, 7, 18, 0, 0)...</td>\n",
              "      <td>Regina Caterers</td>\n",
              "      <td>40356649</td>\n",
              "    </tr>\n",
              "    <tr>\n",
              "      <th>3</th>\n",
              "      <td>3</td>\n",
              "      <td>{'building': '2491', 'coord': [-74.1459332, 40...</td>\n",
              "      <td>Staten Island</td>\n",
              "      <td>Delicatessen</td>\n",
              "      <td>[{'date': datetime.datetime(2015, 1, 9, 0, 0),...</td>\n",
              "      <td>Bagels N Buns</td>\n",
              "      <td>40363427</td>\n",
              "    </tr>\n",
              "    <tr>\n",
              "      <th>4</th>\n",
              "      <td>4</td>\n",
              "      <td>{'building': '56', 'coord': [-74.004758, 40.74...</td>\n",
              "      <td>Manhattan</td>\n",
              "      <td>American</td>\n",
              "      <td>[{'date': datetime.datetime(2014, 6, 10, 0, 0)...</td>\n",
              "      <td>Old Homestead</td>\n",
              "      <td>40364715</td>\n",
              "    </tr>\n",
              "    <tr>\n",
              "      <th>...</th>\n",
              "      <td>...</td>\n",
              "      <td>...</td>\n",
              "      <td>...</td>\n",
              "      <td>...</td>\n",
              "      <td>...</td>\n",
              "      <td>...</td>\n",
              "      <td>...</td>\n",
              "    </tr>\n",
              "    <tr>\n",
              "      <th>25354</th>\n",
              "      <td>25354</td>\n",
              "      <td>{'building': 'ONE', 'coord': [-81.664363600000...</td>\n",
              "      <td>Queens</td>\n",
              "      <td>Other</td>\n",
              "      <td>[]</td>\n",
              "      <td>Camden Food Express</td>\n",
              "      <td>50018316</td>\n",
              "    </tr>\n",
              "    <tr>\n",
              "      <th>25355</th>\n",
              "      <td>25355</td>\n",
              "      <td>{'building': '700', 'coord': [-73.988230600000...</td>\n",
              "      <td>Manhattan</td>\n",
              "      <td>Other</td>\n",
              "      <td>[]</td>\n",
              "      <td>Wooly'S Nyc</td>\n",
              "      <td>50018495</td>\n",
              "    </tr>\n",
              "    <tr>\n",
              "      <th>25356</th>\n",
              "      <td>25356</td>\n",
              "      <td>{'building': '2144', 'coord': [-73.9552561, 40...</td>\n",
              "      <td>Manhattan</td>\n",
              "      <td>Other</td>\n",
              "      <td>[]</td>\n",
              "      <td>Rafi 786</td>\n",
              "      <td>50018553</td>\n",
              "    </tr>\n",
              "    <tr>\n",
              "      <th>25357</th>\n",
              "      <td>25357</td>\n",
              "      <td>{'building': '1448', 'coord': [-73.93032629999...</td>\n",
              "      <td>Brooklyn</td>\n",
              "      <td>Other</td>\n",
              "      <td>[]</td>\n",
              "      <td>NaN</td>\n",
              "      <td>50018721</td>\n",
              "    </tr>\n",
              "    <tr>\n",
              "      <th>25358</th>\n",
              "      <td>25358</td>\n",
              "      <td>{'building': '167', 'coord': [-73.9833565, 40....</td>\n",
              "      <td>Manhattan</td>\n",
              "      <td>Other</td>\n",
              "      <td>[]</td>\n",
              "      <td>Buttercup Bake Shop</td>\n",
              "      <td>50018710</td>\n",
              "    </tr>\n",
              "  </tbody>\n",
              "</table>\n",
              "<p>25359 rows × 7 columns</p>\n",
              "</div>"
            ],
            "text/plain": [
              "           N  ... restaurant_id\n",
              "0          0  ...      40356151\n",
              "1          1  ...      40364744\n",
              "2          2  ...      40356649\n",
              "3          3  ...      40363427\n",
              "4          4  ...      40364715\n",
              "...      ...  ...           ...\n",
              "25354  25354  ...      50018316\n",
              "25355  25355  ...      50018495\n",
              "25356  25356  ...      50018553\n",
              "25357  25357  ...      50018721\n",
              "25358  25358  ...      50018710\n",
              "\n",
              "[25359 rows x 7 columns]"
            ]
          },
          "metadata": {},
          "execution_count": 2
        }
      ]
    },
    {
      "cell_type": "markdown",
      "metadata": {
        "id": "nlKt2PhSeg4x"
      },
      "source": [
        "2. Elimini tutte le colonne ad esclusione di ‘borough’, ‘cuisine’ e ‘name’"
      ]
    },
    {
      "cell_type": "code",
      "metadata": {
        "colab": {
          "base_uri": "https://localhost:8080/",
          "height": 423
        },
        "id": "sOeV-6Y3eb5A",
        "outputId": "2612ac50-e1ae-43bb-857d-db98649be7bd"
      },
      "source": [
        "df.drop(columns=['address','grades','restaurant_id','N'],inplace=True)\n",
        "df"
      ],
      "execution_count": 3,
      "outputs": [
        {
          "output_type": "execute_result",
          "data": {
            "text/html": [
              "<div>\n",
              "<style scoped>\n",
              "    .dataframe tbody tr th:only-of-type {\n",
              "        vertical-align: middle;\n",
              "    }\n",
              "\n",
              "    .dataframe tbody tr th {\n",
              "        vertical-align: top;\n",
              "    }\n",
              "\n",
              "    .dataframe thead th {\n",
              "        text-align: right;\n",
              "    }\n",
              "</style>\n",
              "<table border=\"1\" class=\"dataframe\">\n",
              "  <thead>\n",
              "    <tr style=\"text-align: right;\">\n",
              "      <th></th>\n",
              "      <th>borough</th>\n",
              "      <th>cuisine</th>\n",
              "      <th>name</th>\n",
              "    </tr>\n",
              "  </thead>\n",
              "  <tbody>\n",
              "    <tr>\n",
              "      <th>0</th>\n",
              "      <td>Queens</td>\n",
              "      <td>American</td>\n",
              "      <td>Brunos On The Boulevard</td>\n",
              "    </tr>\n",
              "    <tr>\n",
              "      <th>1</th>\n",
              "      <td>Queens</td>\n",
              "      <td>Pizza/Italian</td>\n",
              "      <td>New Park Pizzeria &amp; Restaurant</td>\n",
              "    </tr>\n",
              "    <tr>\n",
              "      <th>2</th>\n",
              "      <td>Brooklyn</td>\n",
              "      <td>American</td>\n",
              "      <td>Regina Caterers</td>\n",
              "    </tr>\n",
              "    <tr>\n",
              "      <th>3</th>\n",
              "      <td>Staten Island</td>\n",
              "      <td>Delicatessen</td>\n",
              "      <td>Bagels N Buns</td>\n",
              "    </tr>\n",
              "    <tr>\n",
              "      <th>4</th>\n",
              "      <td>Manhattan</td>\n",
              "      <td>American</td>\n",
              "      <td>Old Homestead</td>\n",
              "    </tr>\n",
              "    <tr>\n",
              "      <th>...</th>\n",
              "      <td>...</td>\n",
              "      <td>...</td>\n",
              "      <td>...</td>\n",
              "    </tr>\n",
              "    <tr>\n",
              "      <th>25354</th>\n",
              "      <td>Queens</td>\n",
              "      <td>Other</td>\n",
              "      <td>Camden Food Express</td>\n",
              "    </tr>\n",
              "    <tr>\n",
              "      <th>25355</th>\n",
              "      <td>Manhattan</td>\n",
              "      <td>Other</td>\n",
              "      <td>Wooly'S Nyc</td>\n",
              "    </tr>\n",
              "    <tr>\n",
              "      <th>25356</th>\n",
              "      <td>Manhattan</td>\n",
              "      <td>Other</td>\n",
              "      <td>Rafi 786</td>\n",
              "    </tr>\n",
              "    <tr>\n",
              "      <th>25357</th>\n",
              "      <td>Brooklyn</td>\n",
              "      <td>Other</td>\n",
              "      <td>NaN</td>\n",
              "    </tr>\n",
              "    <tr>\n",
              "      <th>25358</th>\n",
              "      <td>Manhattan</td>\n",
              "      <td>Other</td>\n",
              "      <td>Buttercup Bake Shop</td>\n",
              "    </tr>\n",
              "  </tbody>\n",
              "</table>\n",
              "<p>25359 rows × 3 columns</p>\n",
              "</div>"
            ],
            "text/plain": [
              "             borough        cuisine                            name\n",
              "0             Queens       American         Brunos On The Boulevard\n",
              "1             Queens  Pizza/Italian  New Park Pizzeria & Restaurant\n",
              "2           Brooklyn       American                 Regina Caterers\n",
              "3      Staten Island   Delicatessen                   Bagels N Buns\n",
              "4          Manhattan       American                   Old Homestead\n",
              "...              ...            ...                             ...\n",
              "25354         Queens          Other             Camden Food Express\n",
              "25355      Manhattan          Other                    Wooly'S Nyc \n",
              "25356      Manhattan          Other                        Rafi 786\n",
              "25357       Brooklyn          Other                             NaN\n",
              "25358      Manhattan          Other             Buttercup Bake Shop\n",
              "\n",
              "[25359 rows x 3 columns]"
            ]
          },
          "metadata": {},
          "execution_count": 3
        }
      ]
    },
    {
      "cell_type": "code",
      "metadata": {
        "colab": {
          "base_uri": "https://localhost:8080/",
          "height": 424
        },
        "id": "vVkWwya4hH2J",
        "outputId": "b11e46d0-7b3c-47da-d2a0-17ee1ccd39d3"
      },
      "source": [
        "df.filter(items=['borough','cuisine','name'])"
      ],
      "execution_count": null,
      "outputs": [
        {
          "output_type": "execute_result",
          "data": {
            "text/html": [
              "<div>\n",
              "<style scoped>\n",
              "    .dataframe tbody tr th:only-of-type {\n",
              "        vertical-align: middle;\n",
              "    }\n",
              "\n",
              "    .dataframe tbody tr th {\n",
              "        vertical-align: top;\n",
              "    }\n",
              "\n",
              "    .dataframe thead th {\n",
              "        text-align: right;\n",
              "    }\n",
              "</style>\n",
              "<table border=\"1\" class=\"dataframe\">\n",
              "  <thead>\n",
              "    <tr style=\"text-align: right;\">\n",
              "      <th></th>\n",
              "      <th>borough</th>\n",
              "      <th>cuisine</th>\n",
              "      <th>name</th>\n",
              "    </tr>\n",
              "  </thead>\n",
              "  <tbody>\n",
              "    <tr>\n",
              "      <th>0</th>\n",
              "      <td>Queens</td>\n",
              "      <td>American</td>\n",
              "      <td>Brunos On The Boulevard</td>\n",
              "    </tr>\n",
              "    <tr>\n",
              "      <th>1</th>\n",
              "      <td>Queens</td>\n",
              "      <td>Pizza/Italian</td>\n",
              "      <td>New Park Pizzeria &amp; Restaurant</td>\n",
              "    </tr>\n",
              "    <tr>\n",
              "      <th>2</th>\n",
              "      <td>Brooklyn</td>\n",
              "      <td>American</td>\n",
              "      <td>Regina Caterers</td>\n",
              "    </tr>\n",
              "    <tr>\n",
              "      <th>3</th>\n",
              "      <td>Staten Island</td>\n",
              "      <td>Delicatessen</td>\n",
              "      <td>Bagels N Buns</td>\n",
              "    </tr>\n",
              "    <tr>\n",
              "      <th>4</th>\n",
              "      <td>Manhattan</td>\n",
              "      <td>American</td>\n",
              "      <td>Old Homestead</td>\n",
              "    </tr>\n",
              "    <tr>\n",
              "      <th>...</th>\n",
              "      <td>...</td>\n",
              "      <td>...</td>\n",
              "      <td>...</td>\n",
              "    </tr>\n",
              "    <tr>\n",
              "      <th>25354</th>\n",
              "      <td>Queens</td>\n",
              "      <td>Other</td>\n",
              "      <td>Camden Food Express</td>\n",
              "    </tr>\n",
              "    <tr>\n",
              "      <th>25355</th>\n",
              "      <td>Manhattan</td>\n",
              "      <td>Other</td>\n",
              "      <td>Wooly'S Nyc</td>\n",
              "    </tr>\n",
              "    <tr>\n",
              "      <th>25356</th>\n",
              "      <td>Manhattan</td>\n",
              "      <td>Other</td>\n",
              "      <td>Rafi 786</td>\n",
              "    </tr>\n",
              "    <tr>\n",
              "      <th>25357</th>\n",
              "      <td>Brooklyn</td>\n",
              "      <td>Other</td>\n",
              "      <td>NaN</td>\n",
              "    </tr>\n",
              "    <tr>\n",
              "      <th>25358</th>\n",
              "      <td>Manhattan</td>\n",
              "      <td>Other</td>\n",
              "      <td>Buttercup Bake Shop</td>\n",
              "    </tr>\n",
              "  </tbody>\n",
              "</table>\n",
              "<p>25359 rows × 3 columns</p>\n",
              "</div>"
            ],
            "text/plain": [
              "             borough        cuisine                            name\n",
              "0             Queens       American         Brunos On The Boulevard\n",
              "1             Queens  Pizza/Italian  New Park Pizzeria & Restaurant\n",
              "2           Brooklyn       American                 Regina Caterers\n",
              "3      Staten Island   Delicatessen                   Bagels N Buns\n",
              "4          Manhattan       American                   Old Homestead\n",
              "...              ...            ...                             ...\n",
              "25354         Queens          Other             Camden Food Express\n",
              "25355      Manhattan          Other                    Wooly'S Nyc \n",
              "25356      Manhattan          Other                        Rafi 786\n",
              "25357       Brooklyn          Other                             NaN\n",
              "25358      Manhattan          Other             Buttercup Bake Shop\n",
              "\n",
              "[25359 rows x 3 columns]"
            ]
          },
          "metadata": {},
          "execution_count": 31
        }
      ]
    },
    {
      "cell_type": "markdown",
      "metadata": {
        "id": "1sPQ8YJxfec4"
      },
      "source": [
        "3. Conti il numero di ristoranti che hanno ‘Missing’ come quartiere"
      ]
    },
    {
      "cell_type": "code",
      "metadata": {
        "colab": {
          "base_uri": "https://localhost:8080/"
        },
        "id": "brbmFjIEfe8Q",
        "outputId": "7d9258d5-6dd4-499a-9d25-75527dcc9b8d"
      },
      "source": [
        "df[df['borough']=='Missing'].count()"
      ],
      "execution_count": 4,
      "outputs": [
        {
          "output_type": "execute_result",
          "data": {
            "text/plain": [
              "borough    51\n",
              "cuisine    51\n",
              "name       51\n",
              "dtype: int64"
            ]
          },
          "metadata": {},
          "execution_count": 4
        }
      ]
    },
    {
      "cell_type": "markdown",
      "metadata": {
        "id": "WpZmq1Q1gw5B"
      },
      "source": [
        "4. Sostituisca alla parola ‘Missing’ il valore null"
      ]
    },
    {
      "cell_type": "code",
      "metadata": {
        "id": "hwDPkXO-gzX4"
      },
      "source": [
        "import numpy as np"
      ],
      "execution_count": 5,
      "outputs": []
    },
    {
      "cell_type": "code",
      "metadata": {
        "colab": {
          "base_uri": "https://localhost:8080/",
          "height": 423
        },
        "id": "VMh9sqz5iO-i",
        "outputId": "6218a93b-7fef-453b-c933-7ce0478df060"
      },
      "source": [
        "df['borough'] = df['borough'].replace('Missing',np.nan)\n",
        "df"
      ],
      "execution_count": 6,
      "outputs": [
        {
          "output_type": "execute_result",
          "data": {
            "text/html": [
              "<div>\n",
              "<style scoped>\n",
              "    .dataframe tbody tr th:only-of-type {\n",
              "        vertical-align: middle;\n",
              "    }\n",
              "\n",
              "    .dataframe tbody tr th {\n",
              "        vertical-align: top;\n",
              "    }\n",
              "\n",
              "    .dataframe thead th {\n",
              "        text-align: right;\n",
              "    }\n",
              "</style>\n",
              "<table border=\"1\" class=\"dataframe\">\n",
              "  <thead>\n",
              "    <tr style=\"text-align: right;\">\n",
              "      <th></th>\n",
              "      <th>borough</th>\n",
              "      <th>cuisine</th>\n",
              "      <th>name</th>\n",
              "    </tr>\n",
              "  </thead>\n",
              "  <tbody>\n",
              "    <tr>\n",
              "      <th>0</th>\n",
              "      <td>Queens</td>\n",
              "      <td>American</td>\n",
              "      <td>Brunos On The Boulevard</td>\n",
              "    </tr>\n",
              "    <tr>\n",
              "      <th>1</th>\n",
              "      <td>Queens</td>\n",
              "      <td>Pizza/Italian</td>\n",
              "      <td>New Park Pizzeria &amp; Restaurant</td>\n",
              "    </tr>\n",
              "    <tr>\n",
              "      <th>2</th>\n",
              "      <td>Brooklyn</td>\n",
              "      <td>American</td>\n",
              "      <td>Regina Caterers</td>\n",
              "    </tr>\n",
              "    <tr>\n",
              "      <th>3</th>\n",
              "      <td>Staten Island</td>\n",
              "      <td>Delicatessen</td>\n",
              "      <td>Bagels N Buns</td>\n",
              "    </tr>\n",
              "    <tr>\n",
              "      <th>4</th>\n",
              "      <td>Manhattan</td>\n",
              "      <td>American</td>\n",
              "      <td>Old Homestead</td>\n",
              "    </tr>\n",
              "    <tr>\n",
              "      <th>...</th>\n",
              "      <td>...</td>\n",
              "      <td>...</td>\n",
              "      <td>...</td>\n",
              "    </tr>\n",
              "    <tr>\n",
              "      <th>25354</th>\n",
              "      <td>Queens</td>\n",
              "      <td>Other</td>\n",
              "      <td>Camden Food Express</td>\n",
              "    </tr>\n",
              "    <tr>\n",
              "      <th>25355</th>\n",
              "      <td>Manhattan</td>\n",
              "      <td>Other</td>\n",
              "      <td>Wooly'S Nyc</td>\n",
              "    </tr>\n",
              "    <tr>\n",
              "      <th>25356</th>\n",
              "      <td>Manhattan</td>\n",
              "      <td>Other</td>\n",
              "      <td>Rafi 786</td>\n",
              "    </tr>\n",
              "    <tr>\n",
              "      <th>25357</th>\n",
              "      <td>Brooklyn</td>\n",
              "      <td>Other</td>\n",
              "      <td>NaN</td>\n",
              "    </tr>\n",
              "    <tr>\n",
              "      <th>25358</th>\n",
              "      <td>Manhattan</td>\n",
              "      <td>Other</td>\n",
              "      <td>Buttercup Bake Shop</td>\n",
              "    </tr>\n",
              "  </tbody>\n",
              "</table>\n",
              "<p>25359 rows × 3 columns</p>\n",
              "</div>"
            ],
            "text/plain": [
              "             borough        cuisine                            name\n",
              "0             Queens       American         Brunos On The Boulevard\n",
              "1             Queens  Pizza/Italian  New Park Pizzeria & Restaurant\n",
              "2           Brooklyn       American                 Regina Caterers\n",
              "3      Staten Island   Delicatessen                   Bagels N Buns\n",
              "4          Manhattan       American                   Old Homestead\n",
              "...              ...            ...                             ...\n",
              "25354         Queens          Other             Camden Food Express\n",
              "25355      Manhattan          Other                    Wooly'S Nyc \n",
              "25356      Manhattan          Other                        Rafi 786\n",
              "25357       Brooklyn          Other                             NaN\n",
              "25358      Manhattan          Other             Buttercup Bake Shop\n",
              "\n",
              "[25359 rows x 3 columns]"
            ]
          },
          "metadata": {},
          "execution_count": 6
        }
      ]
    },
    {
      "cell_type": "markdown",
      "metadata": {
        "id": "O5QmC3OZkjqQ"
      },
      "source": [
        "5. Elimini dal dataframe tutti i ristoranti di cui non si conosce il quartiere"
      ]
    },
    {
      "cell_type": "code",
      "metadata": {
        "id": "QR-PWEJ8kbPh",
        "outputId": "a2016c3f-7b70-4a79-8f23-94cf83f8c812",
        "colab": {
          "base_uri": "https://localhost:8080/"
        }
      },
      "source": [
        "df.dropna(inplace=True)\n",
        "df.count()"
      ],
      "execution_count": 19,
      "outputs": [
        {
          "output_type": "execute_result",
          "data": {
            "text/plain": [
              "borough    25157\n",
              "cuisine    25157\n",
              "name       25157\n",
              "dtype: int64"
            ]
          },
          "metadata": {},
          "execution_count": 19
        }
      ]
    },
    {
      "cell_type": "markdown",
      "metadata": {
        "id": "aeRHXcRelB8I"
      },
      "source": [
        "6. Calcoli il numero di ristoranti per ogni cucina. Ordinare in ordine decrescente a partire dal tipo di cucina\n",
        "che ha più ristoranti"
      ]
    },
    {
      "cell_type": "code",
      "metadata": {
        "colab": {
          "base_uri": "https://localhost:8080/"
        },
        "id": "dQsjspVglE0A",
        "outputId": "66104fc9-d7c8-4230-92fd-4434ba51794b"
      },
      "source": [
        "df['cuisine'].value_counts()"
      ],
      "execution_count": 7,
      "outputs": [
        {
          "output_type": "execute_result",
          "data": {
            "text/plain": [
              "American           6183\n",
              "Chinese            2418\n",
              "Café/Coffee/Tea    1214\n",
              "Pizza              1163\n",
              "Italian            1069\n",
              "                   ... \n",
              "Iranian               2\n",
              "Polynesian            1\n",
              "Californian           1\n",
              "Chilean               1\n",
              "Creole/Cajun          1\n",
              "Name: cuisine, Length: 85, dtype: int64"
            ]
          },
          "metadata": {},
          "execution_count": 7
        }
      ]
    },
    {
      "cell_type": "code",
      "metadata": {
        "id": "kJCnF3HU5bg7",
        "outputId": "89bb0c2e-2922-42ec-ab08-aa16ebc56a5e",
        "colab": {
          "base_uri": "https://localhost:8080/"
        }
      },
      "source": [
        "df.groupby('cuisine')['name'].count().sort_values(ascending=False)"
      ],
      "execution_count": 20,
      "outputs": [
        {
          "output_type": "execute_result",
          "data": {
            "text/plain": [
              "cuisine\n",
              "American           6173\n",
              "Chinese            2412\n",
              "Café/Coffee/Tea    1210\n",
              "Pizza              1162\n",
              "Italian            1069\n",
              "                   ... \n",
              "Iranian               2\n",
              "Chilean               1\n",
              "Californian           1\n",
              "Polynesian            1\n",
              "Creole/Cajun          1\n",
              "Name: name, Length: 85, dtype: int64"
            ]
          },
          "metadata": {},
          "execution_count": 20
        }
      ]
    },
    {
      "cell_type": "markdown",
      "metadata": {
        "id": "0NwDvjIIm5FI"
      },
      "source": [
        "7. Visualizzi il tipo di cucina con più ristoranti"
      ]
    },
    {
      "cell_type": "code",
      "metadata": {
        "colab": {
          "base_uri": "https://localhost:8080/",
          "height": 35
        },
        "id": "NzzyV7uWofx8",
        "outputId": "0b4ee7a0-772f-4afe-9efd-d55638c3f66e"
      },
      "source": [
        "df['cuisine'].value_counts().sort_values(ascending=False).index[0]"
      ],
      "execution_count": 8,
      "outputs": [
        {
          "output_type": "execute_result",
          "data": {
            "application/vnd.google.colaboratory.intrinsic+json": {
              "type": "string"
            },
            "text/plain": [
              "'American'"
            ]
          },
          "metadata": {},
          "execution_count": 8
        }
      ]
    },
    {
      "cell_type": "code",
      "metadata": {
        "id": "XTQbbnes6b7E",
        "outputId": "e4e20909-0abf-4ecb-d275-d6af74b5d953",
        "colab": {
          "base_uri": "https://localhost:8080/"
        }
      },
      "source": [
        "cucine = df.groupby('cuisine').count().reset_index() \n",
        "cucine[cucine['name']==cucine['name'].max()]['cuisine']"
      ],
      "execution_count": 28,
      "outputs": [
        {
          "output_type": "execute_result",
          "data": {
            "text/plain": [
              "2    American\n",
              "Name: cuisine, dtype: object"
            ]
          },
          "metadata": {},
          "execution_count": 28
        }
      ]
    },
    {
      "cell_type": "markdown",
      "metadata": {
        "id": "zFJwwZkvqCFo"
      },
      "source": [
        "8. Visualizzi un grafico a barre con i primi 10 tipi di cucina"
      ]
    },
    {
      "cell_type": "code",
      "metadata": {
        "colab": {
          "base_uri": "https://localhost:8080/",
          "height": 363
        },
        "id": "xDYBk2PsqKyB",
        "outputId": "e2e4e0e6-8643-4611-fd9a-2cfdac3866da"
      },
      "source": [
        "df1 = df.groupby('cuisine',as_index=False)['name'].count().sort_values('name',ascending=False).head(10)\n",
        "#raggruppa cuisine (togliendo l'index) e in name vengono contati e ordinati il numero di cusine che ci sono\n",
        "df1"
      ],
      "execution_count": 9,
      "outputs": [
        {
          "output_type": "execute_result",
          "data": {
            "text/html": [
              "<div>\n",
              "<style scoped>\n",
              "    .dataframe tbody tr th:only-of-type {\n",
              "        vertical-align: middle;\n",
              "    }\n",
              "\n",
              "    .dataframe tbody tr th {\n",
              "        vertical-align: top;\n",
              "    }\n",
              "\n",
              "    .dataframe thead th {\n",
              "        text-align: right;\n",
              "    }\n",
              "</style>\n",
              "<table border=\"1\" class=\"dataframe\">\n",
              "  <thead>\n",
              "    <tr style=\"text-align: right;\">\n",
              "      <th></th>\n",
              "      <th>cuisine</th>\n",
              "      <th>name</th>\n",
              "    </tr>\n",
              "  </thead>\n",
              "  <tbody>\n",
              "    <tr>\n",
              "      <th>2</th>\n",
              "      <td>American</td>\n",
              "      <td>6183</td>\n",
              "    </tr>\n",
              "    <tr>\n",
              "      <th>19</th>\n",
              "      <td>Chinese</td>\n",
              "      <td>2418</td>\n",
              "    </tr>\n",
              "    <tr>\n",
              "      <th>13</th>\n",
              "      <td>Café/Coffee/Tea</td>\n",
              "      <td>1214</td>\n",
              "    </tr>\n",
              "    <tr>\n",
              "      <th>62</th>\n",
              "      <td>Pizza</td>\n",
              "      <td>1163</td>\n",
              "    </tr>\n",
              "    <tr>\n",
              "      <th>46</th>\n",
              "      <td>Italian</td>\n",
              "      <td>1069</td>\n",
              "    </tr>\n",
              "    <tr>\n",
              "      <th>58</th>\n",
              "      <td>Other</td>\n",
              "      <td>860</td>\n",
              "    </tr>\n",
              "    <tr>\n",
              "      <th>51</th>\n",
              "      <td>Latin (Cuban, Dominican, Puerto Rican, South &amp;...</td>\n",
              "      <td>850</td>\n",
              "    </tr>\n",
              "    <tr>\n",
              "      <th>47</th>\n",
              "      <td>Japanese</td>\n",
              "      <td>760</td>\n",
              "    </tr>\n",
              "    <tr>\n",
              "      <th>53</th>\n",
              "      <td>Mexican</td>\n",
              "      <td>754</td>\n",
              "    </tr>\n",
              "    <tr>\n",
              "      <th>7</th>\n",
              "      <td>Bakery</td>\n",
              "      <td>691</td>\n",
              "    </tr>\n",
              "  </tbody>\n",
              "</table>\n",
              "</div>"
            ],
            "text/plain": [
              "                                              cuisine  name\n",
              "2                                            American  6183\n",
              "19                                            Chinese  2418\n",
              "13                                    Café/Coffee/Tea  1214\n",
              "62                                              Pizza  1163\n",
              "46                                            Italian  1069\n",
              "58                                              Other   860\n",
              "51  Latin (Cuban, Dominican, Puerto Rican, South &...   850\n",
              "47                                           Japanese   760\n",
              "53                                            Mexican   754\n",
              "7                                              Bakery   691"
            ]
          },
          "metadata": {},
          "execution_count": 9
        }
      ]
    },
    {
      "cell_type": "code",
      "metadata": {
        "colab": {
          "base_uri": "https://localhost:8080/",
          "height": 584
        },
        "id": "YQk9JAjjtyox",
        "outputId": "d0431691-d705-4ebc-9ebd-c558443b777d"
      },
      "source": [
        "\n",
        "fig = plt.figure()\n",
        "ax = plt.axes()\n",
        "\n",
        "fig.autofmt_xdate(rotation=90)\n",
        "\n",
        "ax.bar(df1['cuisine'],df1['name'],color='green')"
      ],
      "execution_count": 30,
      "outputs": [
        {
          "output_type": "execute_result",
          "data": {
            "text/plain": [
              "<BarContainer object of 10 artists>"
            ]
          },
          "metadata": {},
          "execution_count": 30
        },
        {
          "output_type": "display_data",
          "data": {
            "image/png": "[encoded data removed]",
            "text/plain": [
              "<Figure size 432x288 with 1 Axes>"
            ]
          },
          "metadata": {
            "needs_background": "light"
          }
        }
      ]
    },
    {
      "cell_type": "markdown",
      "metadata": {
        "id": "QaoM_SeEvUr4"
      },
      "source": [
        "9. Calcoli il numero di ristoranti per ogni quartiere"
      ]
    },
    {
      "cell_type": "code",
      "metadata": {
        "colab": {
          "base_uri": "https://localhost:8080/"
        },
        "id": "6yF1g1VSvYLw",
        "outputId": "fa2e27a3-b289-462b-b1a0-15b6b9e91311"
      },
      "source": [
        "df2 = df.groupby('borough')['name'].count()\n",
        "df2\n",
        "#raggruppa i borghi e conta quanti ristoranti(name cioe il nome del ristorante) ci sono in quel borgo "
      ],
      "execution_count": 11,
      "outputs": [
        {
          "output_type": "execute_result",
          "data": {
            "text/plain": [
              "borough\n",
              "Bronx             2322\n",
              "Brooklyn          6046\n",
              "Manhattan        10211\n",
              "Queens            5615\n",
              "Staten Island      963\n",
              "Name: name, dtype: int64"
            ]
          },
          "metadata": {},
          "execution_count": 11
        }
      ]
    },
    {
      "cell_type": "markdown",
      "metadata": {
        "id": "V6cKJWWrwfMQ"
      },
      "source": [
        "10. Visualizzi i dati precedenti in un grafico a torta"
      ]
    },
    {
      "cell_type": "code",
      "metadata": {
        "colab": {
          "base_uri": "https://localhost:8080/",
          "height": 248
        },
        "id": "Q4AHwuCGwiLQ",
        "outputId": "bbd38d2f-ef11-42e1-a0c3-fb2b337cb102"
      },
      "source": [
        "fig = plt.figure()\n",
        "ax = plt.axes()\n",
        "cols = ['c','b','hotpink','yellow','red','brown','lime'] \n",
        "\n",
        "ax.pie(df2.values,startangle=90,colors=cols,labels=df2.index)\n",
        "plt.show()"
      ],
      "execution_count": 33,
      "outputs": [
        {
          "output_type": "display_data",
          "data": {
            "image/png": "[encoded data removed]",
            "text/plain": [
              "<Figure size 432x288 with 1 Axes>"
            ]
          },
          "metadata": {}
        }
      ]
    },
    {
      "cell_type": "markdown",
      "metadata": {
        "id": "Nh40WdnmxHrw"
      },
      "source": [
        "11. Visualizzi i due grafici affiancati. Dare titoli appropriati ad entrambi i grafici."
      ]
    },
    {
      "cell_type": "code",
      "metadata": {
        "colab": {
          "base_uri": "https://localhost:8080/",
          "height": 298
        },
        "id": "PkhGtSzRxKAP",
        "outputId": "fc1f363a-5f5b-471c-c137-55633a999139"
      },
      "source": [
        "fig,(ax1,ax2) = plt.subplots(1,2)\n",
        "\n",
        "ax1.bar(df1['cuisine'],df1['name'])\n",
        "ax1.set_title('Grafico a barre')\n",
        "\n",
        "ax2.pie(df2.values,startangle=90,colors=cols,labels=df2.index)\n",
        "ax2.set_title('Grafico a torta')"
      ],
      "execution_count": 35,
      "outputs": [
        {
          "output_type": "execute_result",
          "data": {
            "text/plain": [
              "Text(0.5, 1.0, 'Grafico a torta')"
            ]
          },
          "metadata": {},
          "execution_count": 35
        },
        {
          "output_type": "display_data",
          "data": {
            "image/png": "[encoded data removed]",
            "text/plain": [
              "<Figure size 432x288 with 2 Axes>"
            ]
          },
          "metadata": {
            "needs_background": "light"
          }
        }
      ]
    },
    {
      "cell_type": "markdown",
      "metadata": {
        "id": "lO4CRes20WiQ"
      },
      "source": [
        "12. Crei un nuovo dataframe sostituendo la parola &#39;non American&#39; a tutti i tipi di cucina che non sono\n",
        "americani"
      ]
    },
    {
      "cell_type": "code",
      "metadata": {
        "colab": {
          "base_uri": "https://localhost:8080/",
          "height": 423
        },
        "id": "f3xgeXK30bGy",
        "outputId": "b116555f-580b-4d1a-ea76-0429942e4a16"
      },
      "source": [
        "dfRep = df.replace(df[df['cuisine']!= 'American']['cuisine'].tolist(),'non American')\n",
        "dfRep"
      ],
      "execution_count": 14,
      "outputs": [
        {
          "output_type": "execute_result",
          "data": {
            "text/html": [
              "<div>\n",
              "<style scoped>\n",
              "    .dataframe tbody tr th:only-of-type {\n",
              "        vertical-align: middle;\n",
              "    }\n",
              "\n",
              "    .dataframe tbody tr th {\n",
              "        vertical-align: top;\n",
              "    }\n",
              "\n",
              "    .dataframe thead th {\n",
              "        text-align: right;\n",
              "    }\n",
              "</style>\n",
              "<table border=\"1\" class=\"dataframe\">\n",
              "  <thead>\n",
              "    <tr style=\"text-align: right;\">\n",
              "      <th></th>\n",
              "      <th>borough</th>\n",
              "      <th>cuisine</th>\n",
              "      <th>name</th>\n",
              "    </tr>\n",
              "  </thead>\n",
              "  <tbody>\n",
              "    <tr>\n",
              "      <th>0</th>\n",
              "      <td>Queens</td>\n",
              "      <td>American</td>\n",
              "      <td>Brunos On The Boulevard</td>\n",
              "    </tr>\n",
              "    <tr>\n",
              "      <th>1</th>\n",
              "      <td>Queens</td>\n",
              "      <td>non American</td>\n",
              "      <td>New Park Pizzeria &amp; Restaurant</td>\n",
              "    </tr>\n",
              "    <tr>\n",
              "      <th>2</th>\n",
              "      <td>Brooklyn</td>\n",
              "      <td>American</td>\n",
              "      <td>Regina Caterers</td>\n",
              "    </tr>\n",
              "    <tr>\n",
              "      <th>3</th>\n",
              "      <td>Staten Island</td>\n",
              "      <td>non American</td>\n",
              "      <td>Bagels N Buns</td>\n",
              "    </tr>\n",
              "    <tr>\n",
              "      <th>4</th>\n",
              "      <td>Manhattan</td>\n",
              "      <td>American</td>\n",
              "      <td>Old Homestead</td>\n",
              "    </tr>\n",
              "    <tr>\n",
              "      <th>...</th>\n",
              "      <td>...</td>\n",
              "      <td>...</td>\n",
              "      <td>...</td>\n",
              "    </tr>\n",
              "    <tr>\n",
              "      <th>25354</th>\n",
              "      <td>Queens</td>\n",
              "      <td>non American</td>\n",
              "      <td>Camden Food Express</td>\n",
              "    </tr>\n",
              "    <tr>\n",
              "      <th>25355</th>\n",
              "      <td>Manhattan</td>\n",
              "      <td>non American</td>\n",
              "      <td>Wooly'S Nyc</td>\n",
              "    </tr>\n",
              "    <tr>\n",
              "      <th>25356</th>\n",
              "      <td>Manhattan</td>\n",
              "      <td>non American</td>\n",
              "      <td>Rafi 786</td>\n",
              "    </tr>\n",
              "    <tr>\n",
              "      <th>25357</th>\n",
              "      <td>Brooklyn</td>\n",
              "      <td>non American</td>\n",
              "      <td>NaN</td>\n",
              "    </tr>\n",
              "    <tr>\n",
              "      <th>25358</th>\n",
              "      <td>Manhattan</td>\n",
              "      <td>non American</td>\n",
              "      <td>Buttercup Bake Shop</td>\n",
              "    </tr>\n",
              "  </tbody>\n",
              "</table>\n",
              "<p>25359 rows × 3 columns</p>\n",
              "</div>"
            ],
            "text/plain": [
              "             borough       cuisine                            name\n",
              "0             Queens      American         Brunos On The Boulevard\n",
              "1             Queens  non American  New Park Pizzeria & Restaurant\n",
              "2           Brooklyn      American                 Regina Caterers\n",
              "3      Staten Island  non American                   Bagels N Buns\n",
              "4          Manhattan      American                   Old Homestead\n",
              "...              ...           ...                             ...\n",
              "25354         Queens  non American             Camden Food Express\n",
              "25355      Manhattan  non American                    Wooly'S Nyc \n",
              "25356      Manhattan  non American                        Rafi 786\n",
              "25357       Brooklyn  non American                             NaN\n",
              "25358      Manhattan  non American             Buttercup Bake Shop\n",
              "\n",
              "[25359 rows x 3 columns]"
            ]
          },
          "metadata": {},
          "execution_count": 14
        }
      ]
    },
    {
      "cell_type": "code",
      "metadata": {
        "id": "7QpQBiSJ-fo9",
        "outputId": "c47623ed-a414-479b-b102-f239648fd3d1",
        "colab": {
          "base_uri": "https://localhost:8080/",
          "height": 423
        }
      },
      "source": [
        "df4 = df\n",
        "df4.loc[df4['cuisine']!='American','cuisine']='nonAmerican'\n",
        "df4"
      ],
      "execution_count": 36,
      "outputs": [
        {
          "output_type": "execute_result",
          "data": {
            "text/html": [
              "<div>\n",
              "<style scoped>\n",
              "    .dataframe tbody tr th:only-of-type {\n",
              "        vertical-align: middle;\n",
              "    }\n",
              "\n",
              "    .dataframe tbody tr th {\n",
              "        vertical-align: top;\n",
              "    }\n",
              "\n",
              "    .dataframe thead th {\n",
              "        text-align: right;\n",
              "    }\n",
              "</style>\n",
              "<table border=\"1\" class=\"dataframe\">\n",
              "  <thead>\n",
              "    <tr style=\"text-align: right;\">\n",
              "      <th></th>\n",
              "      <th>borough</th>\n",
              "      <th>cuisine</th>\n",
              "      <th>name</th>\n",
              "    </tr>\n",
              "  </thead>\n",
              "  <tbody>\n",
              "    <tr>\n",
              "      <th>0</th>\n",
              "      <td>Queens</td>\n",
              "      <td>American</td>\n",
              "      <td>Brunos On The Boulevard</td>\n",
              "    </tr>\n",
              "    <tr>\n",
              "      <th>1</th>\n",
              "      <td>Queens</td>\n",
              "      <td>nonAmerican</td>\n",
              "      <td>New Park Pizzeria &amp; Restaurant</td>\n",
              "    </tr>\n",
              "    <tr>\n",
              "      <th>2</th>\n",
              "      <td>Brooklyn</td>\n",
              "      <td>American</td>\n",
              "      <td>Regina Caterers</td>\n",
              "    </tr>\n",
              "    <tr>\n",
              "      <th>3</th>\n",
              "      <td>Staten Island</td>\n",
              "      <td>nonAmerican</td>\n",
              "      <td>Bagels N Buns</td>\n",
              "    </tr>\n",
              "    <tr>\n",
              "      <th>4</th>\n",
              "      <td>Manhattan</td>\n",
              "      <td>American</td>\n",
              "      <td>Old Homestead</td>\n",
              "    </tr>\n",
              "    <tr>\n",
              "      <th>...</th>\n",
              "      <td>...</td>\n",
              "      <td>...</td>\n",
              "      <td>...</td>\n",
              "    </tr>\n",
              "    <tr>\n",
              "      <th>25353</th>\n",
              "      <td>Manhattan</td>\n",
              "      <td>nonAmerican</td>\n",
              "      <td>Maid Cafe</td>\n",
              "    </tr>\n",
              "    <tr>\n",
              "      <th>25354</th>\n",
              "      <td>Queens</td>\n",
              "      <td>nonAmerican</td>\n",
              "      <td>Camden Food Express</td>\n",
              "    </tr>\n",
              "    <tr>\n",
              "      <th>25355</th>\n",
              "      <td>Manhattan</td>\n",
              "      <td>nonAmerican</td>\n",
              "      <td>Wooly'S Nyc</td>\n",
              "    </tr>\n",
              "    <tr>\n",
              "      <th>25356</th>\n",
              "      <td>Manhattan</td>\n",
              "      <td>nonAmerican</td>\n",
              "      <td>Rafi 786</td>\n",
              "    </tr>\n",
              "    <tr>\n",
              "      <th>25358</th>\n",
              "      <td>Manhattan</td>\n",
              "      <td>nonAmerican</td>\n",
              "      <td>Buttercup Bake Shop</td>\n",
              "    </tr>\n",
              "  </tbody>\n",
              "</table>\n",
              "<p>25157 rows × 3 columns</p>\n",
              "</div>"
            ],
            "text/plain": [
              "             borough      cuisine                            name\n",
              "0             Queens     American         Brunos On The Boulevard\n",
              "1             Queens  nonAmerican  New Park Pizzeria & Restaurant\n",
              "2           Brooklyn     American                 Regina Caterers\n",
              "3      Staten Island  nonAmerican                   Bagels N Buns\n",
              "4          Manhattan     American                   Old Homestead\n",
              "...              ...          ...                             ...\n",
              "25353      Manhattan  nonAmerican                       Maid Cafe\n",
              "25354         Queens  nonAmerican             Camden Food Express\n",
              "25355      Manhattan  nonAmerican                    Wooly'S Nyc \n",
              "25356      Manhattan  nonAmerican                        Rafi 786\n",
              "25358      Manhattan  nonAmerican             Buttercup Bake Shop\n",
              "\n",
              "[25157 rows x 3 columns]"
            ]
          },
          "metadata": {},
          "execution_count": 36
        }
      ]
    },
    {
      "cell_type": "markdown",
      "metadata": {
        "id": "uNMjf1IG1_5Q"
      },
      "source": [
        "13. Visualizzi, per ogni quartiere, il numero di ristoranti di cucina americana e non americana. Il risultato\n",
        "deve essere il seguente:"
      ]
    },
    {
      "cell_type": "code",
      "metadata": {
        "id": "bEEJ8wFE2Cb_",
        "outputId": "a4cf0339-ee95-484f-81b7-bfd7f26e6b2f",
        "colab": {
          "base_uri": "https://localhost:8080/",
          "height": 394
        }
      },
      "source": [
        "df5 = df4.groupby(['borough','cuisine']).count()\n",
        "df5"
      ],
      "execution_count": 37,
      "outputs": [
        {
          "output_type": "execute_result",
          "data": {
            "text/html": [
              "<div>\n",
              "<style scoped>\n",
              "    .dataframe tbody tr th:only-of-type {\n",
              "        vertical-align: middle;\n",
              "    }\n",
              "\n",
              "    .dataframe tbody tr th {\n",
              "        vertical-align: top;\n",
              "    }\n",
              "\n",
              "    .dataframe thead th {\n",
              "        text-align: right;\n",
              "    }\n",
              "</style>\n",
              "<table border=\"1\" class=\"dataframe\">\n",
              "  <thead>\n",
              "    <tr style=\"text-align: right;\">\n",
              "      <th></th>\n",
              "      <th></th>\n",
              "      <th>name</th>\n",
              "    </tr>\n",
              "    <tr>\n",
              "      <th>borough</th>\n",
              "      <th>cuisine</th>\n",
              "      <th></th>\n",
              "    </tr>\n",
              "  </thead>\n",
              "  <tbody>\n",
              "    <tr>\n",
              "      <th rowspan=\"2\" valign=\"top\">Bronx</th>\n",
              "      <th>American</th>\n",
              "      <td>411</td>\n",
              "    </tr>\n",
              "    <tr>\n",
              "      <th>nonAmerican</th>\n",
              "      <td>1911</td>\n",
              "    </tr>\n",
              "    <tr>\n",
              "      <th rowspan=\"2\" valign=\"top\">Brooklyn</th>\n",
              "      <th>American</th>\n",
              "      <td>1273</td>\n",
              "    </tr>\n",
              "    <tr>\n",
              "      <th>nonAmerican</th>\n",
              "      <td>4773</td>\n",
              "    </tr>\n",
              "    <tr>\n",
              "      <th rowspan=\"2\" valign=\"top\">Manhattan</th>\n",
              "      <th>American</th>\n",
              "      <td>3205</td>\n",
              "    </tr>\n",
              "    <tr>\n",
              "      <th>nonAmerican</th>\n",
              "      <td>7006</td>\n",
              "    </tr>\n",
              "    <tr>\n",
              "      <th rowspan=\"2\" valign=\"top\">Queens</th>\n",
              "      <th>American</th>\n",
              "      <td>1040</td>\n",
              "    </tr>\n",
              "    <tr>\n",
              "      <th>nonAmerican</th>\n",
              "      <td>4575</td>\n",
              "    </tr>\n",
              "    <tr>\n",
              "      <th rowspan=\"2\" valign=\"top\">Staten Island</th>\n",
              "      <th>American</th>\n",
              "      <td>244</td>\n",
              "    </tr>\n",
              "    <tr>\n",
              "      <th>nonAmerican</th>\n",
              "      <td>719</td>\n",
              "    </tr>\n",
              "  </tbody>\n",
              "</table>\n",
              "</div>"
            ],
            "text/plain": [
              "                           name\n",
              "borough       cuisine          \n",
              "Bronx         American      411\n",
              "              nonAmerican  1911\n",
              "Brooklyn      American     1273\n",
              "              nonAmerican  4773\n",
              "Manhattan     American     3205\n",
              "              nonAmerican  7006\n",
              "Queens        American     1040\n",
              "              nonAmerican  4575\n",
              "Staten Island American      244\n",
              "              nonAmerican   719"
            ]
          },
          "metadata": {},
          "execution_count": 37
        }
      ]
    },
    {
      "cell_type": "markdown",
      "metadata": {
        "id": "AxZKqa7v29Fv"
      },
      "source": [
        "14. crei un nuovo dataframe che abbia una colonna che contiene i ristoranti di cucina americana e una\n",
        "colonna che contiene il numero di ristoranti che propongono cucine non americane. Il risultato deve\n",
        "essere il seguente:"
      ]
    },
    {
      "cell_type": "code",
      "metadata": {
        "id": "-VG-HNcX3ABX",
        "outputId": "095a0c2a-231c-4bf1-8fc1-daf52605e676",
        "colab": {
          "base_uri": "https://localhost:8080/",
          "height": 269
        }
      },
      "source": [
        "df6 = df5.unstack()\n",
        "df6"
      ],
      "execution_count": 38,
      "outputs": [
        {
          "output_type": "execute_result",
          "data": {
            "text/html": [
              "<div>\n",
              "<style scoped>\n",
              "    .dataframe tbody tr th:only-of-type {\n",
              "        vertical-align: middle;\n",
              "    }\n",
              "\n",
              "    .dataframe tbody tr th {\n",
              "        vertical-align: top;\n",
              "    }\n",
              "\n",
              "    .dataframe thead tr th {\n",
              "        text-align: left;\n",
              "    }\n",
              "\n",
              "    .dataframe thead tr:last-of-type th {\n",
              "        text-align: right;\n",
              "    }\n",
              "</style>\n",
              "<table border=\"1\" class=\"dataframe\">\n",
              "  <thead>\n",
              "    <tr>\n",
              "      <th></th>\n",
              "      <th colspan=\"2\" halign=\"left\">name</th>\n",
              "    </tr>\n",
              "    <tr>\n",
              "      <th>cuisine</th>\n",
              "      <th>American</th>\n",
              "      <th>nonAmerican</th>\n",
              "    </tr>\n",
              "    <tr>\n",
              "      <th>borough</th>\n",
              "      <th></th>\n",
              "      <th></th>\n",
              "    </tr>\n",
              "  </thead>\n",
              "  <tbody>\n",
              "    <tr>\n",
              "      <th>Bronx</th>\n",
              "      <td>411</td>\n",
              "      <td>1911</td>\n",
              "    </tr>\n",
              "    <tr>\n",
              "      <th>Brooklyn</th>\n",
              "      <td>1273</td>\n",
              "      <td>4773</td>\n",
              "    </tr>\n",
              "    <tr>\n",
              "      <th>Manhattan</th>\n",
              "      <td>3205</td>\n",
              "      <td>7006</td>\n",
              "    </tr>\n",
              "    <tr>\n",
              "      <th>Queens</th>\n",
              "      <td>1040</td>\n",
              "      <td>4575</td>\n",
              "    </tr>\n",
              "    <tr>\n",
              "      <th>Staten Island</th>\n",
              "      <td>244</td>\n",
              "      <td>719</td>\n",
              "    </tr>\n",
              "  </tbody>\n",
              "</table>\n",
              "</div>"
            ],
            "text/plain": [
              "                  name            \n",
              "cuisine       American nonAmerican\n",
              "borough                           \n",
              "Bronx              411        1911\n",
              "Brooklyn          1273        4773\n",
              "Manhattan         3205        7006\n",
              "Queens            1040        4575\n",
              "Staten Island      244         719"
            ]
          },
          "metadata": {},
          "execution_count": 38
        }
      ]
    },
    {
      "cell_type": "markdown",
      "metadata": {
        "id": "yxpMeCBD3AV2"
      },
      "source": [
        "15. resetti l&#39;indice in modo da avere le tre colonne necessarie per costruire un grafico a barre. Il risultato\n",
        "deve essere il seguente:"
      ]
    },
    {
      "cell_type": "code",
      "metadata": {
        "id": "yOkA-40c3Eq4",
        "outputId": "7326a76b-71b8-4551-85c9-a2e4eed46e4c",
        "colab": {
          "base_uri": "https://localhost:8080/",
          "height": 206
        }
      },
      "source": [
        "df7 = df6['name'].reset_index()\n",
        "df7"
      ],
      "execution_count": 43,
      "outputs": [
        {
          "output_type": "execute_result",
          "data": {
            "text/html": [
              "<div>\n",
              "<style scoped>\n",
              "    .dataframe tbody tr th:only-of-type {\n",
              "        vertical-align: middle;\n",
              "    }\n",
              "\n",
              "    .dataframe tbody tr th {\n",
              "        vertical-align: top;\n",
              "    }\n",
              "\n",
              "    .dataframe thead th {\n",
              "        text-align: right;\n",
              "    }\n",
              "</style>\n",
              "<table border=\"1\" class=\"dataframe\">\n",
              "  <thead>\n",
              "    <tr style=\"text-align: right;\">\n",
              "      <th>cuisine</th>\n",
              "      <th>borough</th>\n",
              "      <th>American</th>\n",
              "      <th>nonAmerican</th>\n",
              "    </tr>\n",
              "  </thead>\n",
              "  <tbody>\n",
              "    <tr>\n",
              "      <th>0</th>\n",
              "      <td>Bronx</td>\n",
              "      <td>411</td>\n",
              "      <td>1911</td>\n",
              "    </tr>\n",
              "    <tr>\n",
              "      <th>1</th>\n",
              "      <td>Brooklyn</td>\n",
              "      <td>1273</td>\n",
              "      <td>4773</td>\n",
              "    </tr>\n",
              "    <tr>\n",
              "      <th>2</th>\n",
              "      <td>Manhattan</td>\n",
              "      <td>3205</td>\n",
              "      <td>7006</td>\n",
              "    </tr>\n",
              "    <tr>\n",
              "      <th>3</th>\n",
              "      <td>Queens</td>\n",
              "      <td>1040</td>\n",
              "      <td>4575</td>\n",
              "    </tr>\n",
              "    <tr>\n",
              "      <th>4</th>\n",
              "      <td>Staten Island</td>\n",
              "      <td>244</td>\n",
              "      <td>719</td>\n",
              "    </tr>\n",
              "  </tbody>\n",
              "</table>\n",
              "</div>"
            ],
            "text/plain": [
              "cuisine        borough  American  nonAmerican\n",
              "0                Bronx       411         1911\n",
              "1             Brooklyn      1273         4773\n",
              "2            Manhattan      3205         7006\n",
              "3               Queens      1040         4575\n",
              "4        Staten Island       244          719"
            ]
          },
          "metadata": {},
          "execution_count": 43
        }
      ]
    },
    {
      "cell_type": "markdown",
      "metadata": {
        "id": "0XhTljSN3ImX"
      },
      "source": [
        "16. Visualizzi un istogramma in cui per ogni quartiere si visualizzi una barra con il numero dei ristoranti\n",
        "americani ed una per quelli non americani. Il risultato deve essere il seguente:"
      ]
    },
    {
      "cell_type": "code",
      "metadata": {
        "id": "X3VmoNXq3JB_",
        "outputId": "f72d4ab3-ec7b-468b-c1b2-68bcbcb41e7b",
        "colab": {
          "base_uri": "https://localhost:8080/",
          "height": 653
        }
      },
      "source": [
        "fig = plt.figure(figsize=(6,4)) \n",
        "ax = plt.axes()\n",
        "ax.bar(df7.index-0.15,df7[\"American\"],label=\"American\",width=0.3,color=\"blue\")\n",
        "ax.bar(df7.index+0.15,df7[\"nonAmerican\"],label=\"non American\",width=0.3,color=\"#ff8c00\")\n",
        "fig.autofmt_xdate(rotation=90)\n",
        "fig.suptitle(\"Tipologia di cucina\")\n",
        "ax.legend(loc=0)\n",
        "x = np.arange(len(df7['borough']))\n",
        "ax.set_xticks(x, df7['borough'])"
      ],
      "execution_count": 49,
      "outputs": [
        {
          "output_type": "stream",
          "name": "stderr",
          "text": [
            "/usr/local/lib/python3.7/dist-packages/ipykernel_launcher.py:9: MatplotlibDeprecationWarning: Passing the minor parameter of set_xticks() positionally is deprecated since Matplotlib 3.2; the parameter will become keyword-only two minor releases later.\n",
            "  if __name__ == '__main__':\n"
          ]
        },
        {
          "output_type": "error",
          "ename": "ValueError",
          "evalue": "ignored",
          "traceback": [
            "\u001b[0;31m---------------------------------------------------------------------------\u001b[0m",
            "\u001b[0;31mValueError\u001b[0m                                Traceback (most recent call last)",
            "\u001b[0;32m<ipython-input-49-f8873ea6880b>\u001b[0m in \u001b[0;36m<module>\u001b[0;34m()\u001b[0m\n\u001b[1;32m      7\u001b[0m \u001b[0max\u001b[0m\u001b[0;34m.\u001b[0m\u001b[0mlegend\u001b[0m\u001b[0;34m(\u001b[0m\u001b[0mloc\u001b[0m\u001b[0;34m=\u001b[0m\u001b[0;36m0\u001b[0m\u001b[0;34m)\u001b[0m\u001b[0;34m\u001b[0m\u001b[0;34m\u001b[0m\u001b[0m\n\u001b[1;32m      8\u001b[0m \u001b[0mx\u001b[0m \u001b[0;34m=\u001b[0m \u001b[0mnp\u001b[0m\u001b[0;34m.\u001b[0m\u001b[0marange\u001b[0m\u001b[0;34m(\u001b[0m\u001b[0mlen\u001b[0m\u001b[0;34m(\u001b[0m\u001b[0mdf7\u001b[0m\u001b[0;34m[\u001b[0m\u001b[0;34m'borough'\u001b[0m\u001b[0;34m]\u001b[0m\u001b[0;34m)\u001b[0m\u001b[0;34m)\u001b[0m\u001b[0;34m\u001b[0m\u001b[0;34m\u001b[0m\u001b[0m\n\u001b[0;32m----> 9\u001b[0;31m \u001b[0max\u001b[0m\u001b[0;34m.\u001b[0m\u001b[0mset_xticks\u001b[0m\u001b[0;34m(\u001b[0m\u001b[0mx\u001b[0m\u001b[0;34m,\u001b[0m \u001b[0mdf7\u001b[0m\u001b[0;34m[\u001b[0m\u001b[0;34m'borough'\u001b[0m\u001b[0;34m]\u001b[0m\u001b[0;34m)\u001b[0m\u001b[0;34m\u001b[0m\u001b[0;34m\u001b[0m\u001b[0m\n\u001b[0m",
            "\u001b[0;32m/usr/local/lib/python3.7/dist-packages/matplotlib/cbook/deprecation.py\u001b[0m in \u001b[0;36mwrapper\u001b[0;34m(*args, **kwargs)\u001b[0m\n\u001b[1;32m    398\u001b[0m                 \u001b[0;34m\"parameter will become keyword-only %(removal)s.\"\u001b[0m\u001b[0;34m,\u001b[0m\u001b[0;34m\u001b[0m\u001b[0;34m\u001b[0m\u001b[0m\n\u001b[1;32m    399\u001b[0m                 name=name, obj_type=f\"parameter of {func.__name__}()\")\n\u001b[0;32m--> 400\u001b[0;31m         \u001b[0;32mreturn\u001b[0m \u001b[0mfunc\u001b[0m\u001b[0;34m(\u001b[0m\u001b[0;34m*\u001b[0m\u001b[0margs\u001b[0m\u001b[0;34m,\u001b[0m \u001b[0;34m**\u001b[0m\u001b[0mkwargs\u001b[0m\u001b[0;34m)\u001b[0m\u001b[0;34m\u001b[0m\u001b[0;34m\u001b[0m\u001b[0m\n\u001b[0m\u001b[1;32m    401\u001b[0m \u001b[0;34m\u001b[0m\u001b[0m\n\u001b[1;32m    402\u001b[0m     \u001b[0;32mreturn\u001b[0m \u001b[0mwrapper\u001b[0m\u001b[0;34m\u001b[0m\u001b[0;34m\u001b[0m\u001b[0m\n",
            "\u001b[0;32m/usr/local/lib/python3.7/dist-packages/matplotlib/axes/_base.py\u001b[0m in \u001b[0;36mset_xticks\u001b[0;34m(self, ticks, minor)\u001b[0m\n\u001b[1;32m   3307\u001b[0m             \u001b[0mDefault\u001b[0m \u001b[0;32mis\u001b[0m\u001b[0;31m \u001b[0m\u001b[0;31m`\u001b[0m\u001b[0;31m`\u001b[0m\u001b[0;32mFalse\u001b[0m\u001b[0;31m`\u001b[0m\u001b[0;31m`\u001b[0m\u001b[0;34m.\u001b[0m\u001b[0;34m\u001b[0m\u001b[0;34m\u001b[0m\u001b[0m\n\u001b[1;32m   3308\u001b[0m         \"\"\"\n\u001b[0;32m-> 3309\u001b[0;31m         \u001b[0mret\u001b[0m \u001b[0;34m=\u001b[0m \u001b[0mself\u001b[0m\u001b[0;34m.\u001b[0m\u001b[0mxaxis\u001b[0m\u001b[0;34m.\u001b[0m\u001b[0mset_ticks\u001b[0m\u001b[0;34m(\u001b[0m\u001b[0mticks\u001b[0m\u001b[0;34m,\u001b[0m \u001b[0mminor\u001b[0m\u001b[0;34m=\u001b[0m\u001b[0mminor\u001b[0m\u001b[0;34m)\u001b[0m\u001b[0;34m\u001b[0m\u001b[0;34m\u001b[0m\u001b[0m\n\u001b[0m\u001b[1;32m   3310\u001b[0m         \u001b[0mself\u001b[0m\u001b[0;34m.\u001b[0m\u001b[0mstale\u001b[0m \u001b[0;34m=\u001b[0m \u001b[0;32mTrue\u001b[0m\u001b[0;34m\u001b[0m\u001b[0;34m\u001b[0m\u001b[0m\n\u001b[1;32m   3311\u001b[0m         \u001b[0;32mreturn\u001b[0m \u001b[0mret\u001b[0m\u001b[0;34m\u001b[0m\u001b[0;34m\u001b[0m\u001b[0m\n",
            "\u001b[0;32m/usr/local/lib/python3.7/dist-packages/matplotlib/cbook/deprecation.py\u001b[0m in \u001b[0;36mwrapper\u001b[0;34m(*args, **kwargs)\u001b[0m\n\u001b[1;32m    398\u001b[0m                 \u001b[0;34m\"parameter will become keyword-only %(removal)s.\"\u001b[0m\u001b[0;34m,\u001b[0m\u001b[0;34m\u001b[0m\u001b[0;34m\u001b[0m\u001b[0m\n\u001b[1;32m    399\u001b[0m                 name=name, obj_type=f\"parameter of {func.__name__}()\")\n\u001b[0;32m--> 400\u001b[0;31m         \u001b[0;32mreturn\u001b[0m \u001b[0mfunc\u001b[0m\u001b[0;34m(\u001b[0m\u001b[0;34m*\u001b[0m\u001b[0margs\u001b[0m\u001b[0;34m,\u001b[0m \u001b[0;34m**\u001b[0m\u001b[0mkwargs\u001b[0m\u001b[0;34m)\u001b[0m\u001b[0;34m\u001b[0m\u001b[0;34m\u001b[0m\u001b[0m\n\u001b[0m\u001b[1;32m    401\u001b[0m \u001b[0;34m\u001b[0m\u001b[0m\n\u001b[1;32m    402\u001b[0m     \u001b[0;32mreturn\u001b[0m \u001b[0mwrapper\u001b[0m\u001b[0;34m\u001b[0m\u001b[0;34m\u001b[0m\u001b[0m\n",
            "\u001b[0;32m/usr/local/lib/python3.7/dist-packages/matplotlib/axis.py\u001b[0m in \u001b[0;36mset_ticks\u001b[0;34m(self, ticks, minor)\u001b[0m\n\u001b[1;32m   1766\u001b[0m             \u001b[0;32melse\u001b[0m\u001b[0;34m:\u001b[0m\u001b[0;34m\u001b[0m\u001b[0;34m\u001b[0m\u001b[0m\n\u001b[1;32m   1767\u001b[0m                 \u001b[0mself\u001b[0m\u001b[0;34m.\u001b[0m\u001b[0mset_view_interval\u001b[0m\u001b[0;34m(\u001b[0m\u001b[0mmax\u001b[0m\u001b[0;34m(\u001b[0m\u001b[0mticks\u001b[0m\u001b[0;34m)\u001b[0m\u001b[0;34m,\u001b[0m \u001b[0mmin\u001b[0m\u001b[0;34m(\u001b[0m\u001b[0mticks\u001b[0m\u001b[0;34m)\u001b[0m\u001b[0;34m)\u001b[0m\u001b[0;34m\u001b[0m\u001b[0;34m\u001b[0m\u001b[0m\n\u001b[0;32m-> 1768\u001b[0;31m         \u001b[0;32mif\u001b[0m \u001b[0mminor\u001b[0m\u001b[0;34m:\u001b[0m\u001b[0;34m\u001b[0m\u001b[0;34m\u001b[0m\u001b[0m\n\u001b[0m\u001b[1;32m   1769\u001b[0m             \u001b[0mself\u001b[0m\u001b[0;34m.\u001b[0m\u001b[0mset_minor_locator\u001b[0m\u001b[0;34m(\u001b[0m\u001b[0mmticker\u001b[0m\u001b[0;34m.\u001b[0m\u001b[0mFixedLocator\u001b[0m\u001b[0;34m(\u001b[0m\u001b[0mticks\u001b[0m\u001b[0;34m)\u001b[0m\u001b[0;34m)\u001b[0m\u001b[0;34m\u001b[0m\u001b[0;34m\u001b[0m\u001b[0m\n\u001b[1;32m   1770\u001b[0m             \u001b[0;32mreturn\u001b[0m \u001b[0mself\u001b[0m\u001b[0;34m.\u001b[0m\u001b[0mget_minor_ticks\u001b[0m\u001b[0;34m(\u001b[0m\u001b[0mlen\u001b[0m\u001b[0;34m(\u001b[0m\u001b[0mticks\u001b[0m\u001b[0;34m)\u001b[0m\u001b[0;34m)\u001b[0m\u001b[0;34m\u001b[0m\u001b[0;34m\u001b[0m\u001b[0m\n",
            "\u001b[0;32m/usr/local/lib/python3.7/dist-packages/pandas/core/generic.py\u001b[0m in \u001b[0;36m__nonzero__\u001b[0;34m(self)\u001b[0m\n\u001b[1;32m   1328\u001b[0m     \u001b[0;32mdef\u001b[0m \u001b[0m__nonzero__\u001b[0m\u001b[0;34m(\u001b[0m\u001b[0mself\u001b[0m\u001b[0;34m)\u001b[0m\u001b[0;34m:\u001b[0m\u001b[0;34m\u001b[0m\u001b[0;34m\u001b[0m\u001b[0m\n\u001b[1;32m   1329\u001b[0m         raise ValueError(\n\u001b[0;32m-> 1330\u001b[0;31m             \u001b[0;34mf\"The truth value of a {type(self).__name__} is ambiguous. \"\u001b[0m\u001b[0;34m\u001b[0m\u001b[0;34m\u001b[0m\u001b[0m\n\u001b[0m\u001b[1;32m   1331\u001b[0m             \u001b[0;34m\"Use a.empty, a.bool(), a.item(), a.any() or a.all().\"\u001b[0m\u001b[0;34m\u001b[0m\u001b[0;34m\u001b[0m\u001b[0m\n\u001b[1;32m   1332\u001b[0m         )\n",
            "\u001b[0;31mValueError\u001b[0m: The truth value of a Series is ambiguous. Use a.empty, a.bool(), a.item(), a.any() or a.all()."
          ]
        },
        {
          "output_type": "display_data",
          "data": {
            "image/png": "[encoded data removed]",
            "text/plain": [
              "<Figure size 432x288 with 1 Axes>"
            ]
          },
          "metadata": {
            "needs_background": "light"
          }
        }
      ]
    }
  ]
}
