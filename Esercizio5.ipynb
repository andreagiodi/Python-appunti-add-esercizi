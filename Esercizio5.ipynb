{
  "nbformat": 4,
  "nbformat_minor": 0,
  "metadata": {
    "colab": {
      "name": "Esercizio5.ipynb",
      "provenance": [],
      "collapsed_sections": []
    },
    "kernelspec": {
      "name": "python3",
      "display_name": "Python 3"
    },
    "language_info": {
      "name": "python"
    }
  },
  "cells": [
    {
      "cell_type": "markdown",
      "metadata": {
        "id": "uvPlAzDbHWF7"
      },
      "source": [
        "1. scrivere una funzione chiamata max che dati due numeri restituisca il più grande. Scrivere poi un programma che, utilizzando la funzione creata, trovi il massimo tra tre numeri inseriti dall'utente. "
      ]
    },
    {
      "cell_type": "code",
      "metadata": {
        "id": "8rfvty0FHW_H",
        "colab": {
          "base_uri": "https://localhost:8080/"
        },
        "outputId": "2cc54475-c1be-4842-e050-3d19d387991d"
      },
      "source": [
        "def max (num1,num2):\n",
        "  if num1 > num2:\n",
        "    return num1\n",
        "  else:\n",
        "    return num2\n",
        "numero1 = int(input(''))\n",
        "numero2 = int(input(''))\n",
        "max(numero1,numero2)"
      ],
      "execution_count": null,
      "outputs": [
        {
          "name": "stdout",
          "output_type": "stream",
          "text": [
            "5\n",
            "10\n"
          ]
        },
        {
          "output_type": "execute_result",
          "data": {
            "text/plain": [
              "10"
            ]
          },
          "metadata": {},
          "execution_count": 2
        }
      ]
    },
    {
      "cell_type": "markdown",
      "metadata": {
        "id": "87ZZlwiJ0R9w"
      },
      "source": [
        "2. scrivere una funzione chiamata sommaLista che data una lista di interi restituisca la somma di tutti gli elementi della lista. Scrivere poi un programma che, utilizzando la funzione create, trovi la somma degli elementi di una lista inserita dall'utente."
      ]
    },
    {
      "cell_type": "code",
      "metadata": {
        "colab": {
          "base_uri": "https://localhost:8080/"
        },
        "id": "ak6IMoLE0SFv",
        "outputId": "24e4887f-7f21-4a30-941c-65bbeae1b283"
      },
      "source": [
        "def sommaLista (list1):\n",
        "  a = sum(list1)\n",
        "  return a\n",
        "\n",
        "\n",
        "\n",
        "lst = [2,4,4]\n",
        "sommaLista(lst)\n",
        "  "
      ],
      "execution_count": null,
      "outputs": [
        {
          "output_type": "execute_result",
          "data": {
            "text/plain": [
              "10"
            ]
          },
          "metadata": {},
          "execution_count": 12
        }
      ]
    },
    {
      "cell_type": "markdown",
      "metadata": {
        "id": "Arx2-OUb2Mm2"
      },
      "source": [
        "3. utilizzando le funzioni create precedentemente, scrivere un programma che permetta all'utente di inserire tre liste e di avere il valore massimo della somma degli elementi delle tre liste.\n"
      ]
    },
    {
      "cell_type": "code",
      "metadata": {
        "colab": {
          "base_uri": "https://localhost:8080/"
        },
        "id": "OHqc8qrd2NeG",
        "outputId": "19160aa8-5fb8-4235-928f-f890053f6fb0"
      },
      "source": [
        "lst1 = [5,5]\n",
        "lst2 = [2,3]\n",
        "lst3 = [10,5]\n",
        "e = ''\n",
        "if sommaLista(lst1) > sommaLista(lst2):\n",
        "   e = lst1\n",
        "else:\n",
        "   e = lst2\n",
        "if e > lst3:\n",
        "  print(e)\n",
        "else:\n",
        "  print(lst3)"
      ],
      "execution_count": null,
      "outputs": [
        {
          "output_type": "stream",
          "name": "stdout",
          "text": [
            "[10, 5]\n"
          ]
        }
      ]
    },
    {
      "cell_type": "markdown",
      "metadata": {
        "id": "_v-LSLbh4HP3"
      },
      "source": [
        "4. scrivere una funzione chiamata controlla che dato un numero e due estremi restituisca True se il numero è compreso tra i due estremi, false altrimenti. Utilizzare poi la funzione per trovare il numero di elementi di una lista di numeri interi (inserita dall'utente) compresi tra due estremi (inseriti anch'essi dall'utente)"
      ]
    },
    {
      "cell_type": "code",
      "metadata": {
        "id": "eYdCwjlC4Hqn",
        "colab": {
          "base_uri": "https://localhost:8080/"
        },
        "outputId": "fada10fc-0e04-4fbb-c6d2-cd5ddbab2897"
      },
      "source": [
        "def controlla(numero,est1,est2):\n",
        "  if numero > est1:\n",
        "    if numero < est2:\n",
        "      print('True')\n",
        "    else:\n",
        "      print('False')\n",
        "  else:\n",
        "    print('False')\n",
        "controlla(2,1,6)"
      ],
      "execution_count": null,
      "outputs": [
        {
          "output_type": "stream",
          "name": "stdout",
          "text": [
            "True\n"
          ]
        }
      ]
    },
    {
      "cell_type": "markdown",
      "metadata": {
        "id": "cqlIb8l7qv97"
      },
      "source": [
        "5. utilizzare la funzione controlla creata precedentemente per scrivere un programma che, data una lista di numeri interi inserita  dall'utente, carichi in un'altra lista i numeri compresi tra due estremi inseriti anch'essi dall'utente."
      ]
    },
    {
      "cell_type": "code",
      "metadata": {
        "colab": {
          "base_uri": "https://localhost:8080/"
        },
        "id": "W06wi2klqwgb",
        "outputId": "951b6440-095d-443c-e3c9-8f6fb32ff365"
      },
      "source": [
        "controlla(int(input('')),int(input('')), int(input('')))"
      ],
      "execution_count": null,
      "outputs": [
        {
          "output_type": "stream",
          "name": "stdout",
          "text": [
            "2\n",
            "1\n",
            "8\n",
            "True\n"
          ]
        }
      ]
    },
    {
      "cell_type": "markdown",
      "metadata": {
        "id": "LQerjeFcrSvz"
      },
      "source": [
        "6. scrivere una funzione chiamata confrontaListe che date due liste restituisca True se le due liste sono uguali, False altrimenti. Utilizzare poi la funzione in un programma che dica se una lista di interi è palindroma, cioè se può essere letta indifferentemente da sinistra a destra e da destra a sinistra. Ad esempio la lista [1, 2, 3, 4, 3, 2, 1] è palindroma, la lista [1, 2, 3, 4, 3,1, 2] non lo è.\n"
      ]
    },
    {
      "cell_type": "code",
      "metadata": {
        "colab": {
          "base_uri": "https://localhost:8080/"
        },
        "id": "cwrTcEhariIJ",
        "outputId": "4452bc79-0104-48e1-a1c7-18035df62864"
      },
      "source": [
        "l1 = [1,2,3,4,5]\n",
        "l2 = [1,2,3,4,5]\n",
        "def confrontaListe(a,b):\n",
        "  \n",
        "  a.sort()\n",
        "  b.sort()\n",
        "  if a == b:\n",
        "    print('True')\n",
        "  else:\n",
        "    print('False')\n",
        "\n",
        "confrontaListe(l1,l2)"
      ],
      "execution_count": null,
      "outputs": [
        {
          "output_type": "stream",
          "name": "stdout",
          "text": [
            "True\n"
          ]
        }
      ]
    },
    {
      "cell_type": "markdown",
      "metadata": {
        "id": "WuxlmuqgunvD"
      },
      "source": [
        "7. scrivere una funzione chiamata celsiusToFahrenheit che data una temperatura in gradi Celsius restituisca il valore convertito in gradi Fahrenheit (per ulteriori info, google it). Scrivere poi un programma che data una lista di temperature in gradi Celsius,inserita dall'utente, converta tutte le temperature in gradi Fahrenheit."
      ]
    },
    {
      "cell_type": "code",
      "metadata": {
        "colab": {
          "base_uri": "https://localhost:8080/"
        },
        "id": "tMwGP8pMurRa",
        "outputId": "5543f24e-24f2-47ec-cced-364c3337d172"
      },
      "source": [
        "celsius = float(input(\"Enter temperature in celsius: \"))\n",
        "fahrenheit = (celsius * 9/5) + 32\n",
        "print('Fahrenheit: ', fahrenheit)"
      ],
      "execution_count": null,
      "outputs": [
        {
          "output_type": "stream",
          "name": "stdout",
          "text": [
            "Enter temperature in celsius: 30\n",
            "Fahrenheit:  30.0 86.0\n"
          ]
        }
      ]
    },
    {
      "cell_type": "markdown",
      "metadata": {
        "id": "7ffqT_stvjOy"
      },
      "source": [
        "8. scrivere una funzione chiamata IMC che calcoli l'Indice di Massa Corporea a partire dal peso (in kg) e dall'altezza (in m). Utilizzare poi la funzione per scrivere un programma che date tre liste, contenente la prima una serie di nomi, la seconda una serie di pesi e la terza una serie di altezze, produca una quarta lista contenente i valori di IMC corrispondenti. Visualizzare poi i risultati nel seguente modo: \"<nome> pesa <peso kg, misura <altezza> m ed ha un IMC di <IMC>\" ( i valori nelle parentesi angolari vanno presi ovviamente dalle liste)\n"
      ]
    },
    {
      "cell_type": "code",
      "metadata": {
        "colab": {
          "base_uri": "https://localhost:8080/"
        },
        "id": "gnHBQZa4vjxK",
        "outputId": "389d5aef-5e8a-4d83-a91b-bd7484835a27"
      },
      "source": [
        "def IMC(c,d):\n",
        "  f = float(d)\n",
        "  e = c / (f*f)\n",
        "  print(e)\n",
        "c = int(input('Il tuo peso '))\n",
        "d = input('La tua altezza ')\n",
        "IMC(c,d)\n",
        "\n",
        "\n",
        "\n"
      ],
      "execution_count": null,
      "outputs": [
        {
          "output_type": "stream",
          "name": "stdout",
          "text": [
            "Il tuo peso 60\n",
            "La tua altezza 180\n",
            "0.001851851851851852\n"
          ]
        }
      ]
    },
    {
      "cell_type": "markdown",
      "metadata": {
        "id": "mFGMyths0KwM"
      },
      "source": [
        "9: scrivere una lambda function per estrarre da una lista di numeri interi tutti i valori pari.\n"
      ]
    },
    {
      "cell_type": "code",
      "metadata": {
        "colab": {
          "base_uri": "https://localhost:8080/"
        },
        "id": "wZlMQBnZ0LbD",
        "outputId": "faab4c61-2a3e-4eb3-de98-1774b0780e47"
      },
      "source": [
        "nums = [1,2,3,4,5,6,7,8,9,10]\n",
        "even_nums = list(filter(lambda x: x%2 == 0, nums))\n",
        "print(even_nums)"
      ],
      "execution_count": null,
      "outputs": [
        {
          "output_type": "stream",
          "name": "stdout",
          "text": [
            "[2, 4, 6, 8, 10]\n"
          ]
        }
      ]
    }
  ]
}